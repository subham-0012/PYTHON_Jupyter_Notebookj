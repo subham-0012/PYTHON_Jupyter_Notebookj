{
 "cells": [
  {
   "cell_type": "markdown",
   "metadata": {},
   "source": [
    "### Simple functions - Definitions and Call"
   ]
  },
  {
   "cell_type": "code",
   "execution_count": 1,
   "metadata": {},
   "outputs": [],
   "source": [
    "# Create a function with no arguments or return value\n",
    "def simple():\n",
    "    print ('This function has no arguments or return value')"
   ]
  },
  {
   "cell_type": "code",
   "execution_count": 2,
   "metadata": {},
   "outputs": [
    {
     "name": "stdout",
     "output_type": "stream",
     "text": [
      "This function has no arguments or return value\n",
      "This function has no arguments or return value\n",
      "This function has no arguments or return value\n",
      "This function has no arguments or return value\n",
      "This function has no arguments or return value\n"
     ]
    }
   ],
   "source": [
    "# Call the function five times\n",
    "for i in [1,2,3,4,5]:\n",
    "    simple()"
   ]
  },
  {
   "cell_type": "code",
   "execution_count": null,
   "metadata": {},
   "outputs": [],
   "source": [
    "# Create a function with arguments and a return value\n",
    "def addthem(a, b):\n",
    "    return a + b"
   ]
  },
  {
   "cell_type": "code",
   "execution_count": null,
   "metadata": {},
   "outputs": [],
   "source": [
    "# Call the function five times\n",
    "for i in [1,2,3,4,5]:\n",
    "    print ('x is', i, '  y is', i+1, '  sum is', addthem(i,i+1))"
   ]
  },
  {
   "cell_type": "markdown",
   "metadata": {},
   "source": [
    "1. Write a function that takes three elements a,b and c. It computes the gcd and lcm of the numbers and returns a tuple (gcd,lcm)\n",
    "2. Write a function to get the length of three sides of a triangle as parameters. The function returns true if these three sides could form a triangle else it returns a no.\n",
    "In general, if the sum of two sides is greater than the third side, for all combination of two sides then the sides could be used to form a triangle."
   ]
  },
  {
   "cell_type": "markdown",
   "metadata": {},
   "source": [
    "### Function call - Positional and Keyword Arguments"
   ]
  },
  {
   "cell_type": "code",
   "execution_count": 2,
   "metadata": {},
   "outputs": [
    {
     "name": "stdout",
     "output_type": "stream",
     "text": [
      "hello\n",
      "hello\n",
      "hello\n"
     ]
    }
   ],
   "source": [
    "#Positional Arguments\n",
    "def nPrintln(message, n):\n",
    "    for i in range(n):\n",
    "        print(message)\n",
    "\n",
    "nPrintln('hello',3)\n",
    "#nPrintln(3,'hello')"
   ]
  },
  {
   "cell_type": "code",
   "execution_count": 3,
   "metadata": {},
   "outputs": [],
   "source": [
    "#Keyword arguments\n",
    "def f(p1, p2, p3):\n",
    "    return ((p1+p2)/p3)"
   ]
  },
  {
   "cell_type": "code",
   "execution_count": 4,
   "metadata": {},
   "outputs": [
    {
     "name": "stdout",
     "output_type": "stream",
     "text": [
      "13.0\n"
     ]
    }
   ],
   "source": [
    "#Positional arguments call\n",
    "print(f(20,45,5))"
   ]
  },
  {
   "cell_type": "code",
   "execution_count": 5,
   "metadata": {},
   "outputs": [
    {
     "name": "stdout",
     "output_type": "stream",
     "text": [
      "3.4\n"
     ]
    }
   ],
   "source": [
    "print(f(30, p2 = 4, p3 = 10))"
   ]
  },
  {
   "cell_type": "code",
   "execution_count": 6,
   "metadata": {},
   "outputs": [
    {
     "name": "stdout",
     "output_type": "stream",
     "text": [
      "10.0\n"
     ]
    }
   ],
   "source": [
    "print(f(30, 10, p3 = 4))"
   ]
  },
  {
   "cell_type": "markdown",
   "metadata": {},
   "source": [
    "### Default Arguments"
   ]
  },
  {
   "cell_type": "code",
   "execution_count": null,
   "metadata": {},
   "outputs": [],
   "source": [
    "#Default Arguments\n",
    "def printArea(width=1, height=2):\n",
    "    area = width * height\n",
    "    print(\"width:\", width, \"\\theight:\", height, \"\\tarea:\", area)\n",
    "\n",
    "printArea()# Default arguments width = 1 and height = 2"
   ]
  },
  {
   "cell_type": "code",
   "execution_count": null,
   "metadata": {},
   "outputs": [],
   "source": [
    "printArea(4, 2.5)# Positional arguments width = 4 and height = 2.5"
   ]
  },
  {
   "cell_type": "code",
   "execution_count": null,
   "metadata": {},
   "outputs": [],
   "source": [
    "printArea(height = 5, width = 3)# Keyword arguments - order can change"
   ]
  },
  {
   "cell_type": "code",
   "execution_count": null,
   "metadata": {},
   "outputs": [],
   "source": [
    "printArea(width = 1.2)# Default height = 2"
   ]
  },
  {
   "cell_type": "code",
   "execution_count": null,
   "metadata": {},
   "outputs": [],
   "source": [
    "printArea(height = 6.2) # Default width = 1"
   ]
  },
  {
   "cell_type": "markdown",
   "metadata": {},
   "source": [
    "### Variable length arguments - *args and **kwargs"
   ]
  },
  {
   "cell_type": "code",
   "execution_count": 7,
   "metadata": {},
   "outputs": [
    {
     "name": "stdout",
     "output_type": "stream",
     "text": [
      "(42, 21)\n",
      "86\n"
     ]
    }
   ],
   "source": [
    "def sum_args(arg1,*numbers):\n",
    "    '''Accept arbitrary numerical arguments and return their sum.\n",
    "    The arguments are zero or more numbers. The result is their sum.'''\n",
    "    print(numbers)\n",
    "    return arg1+sum(numbers)\n",
    "print (sum_args(23, 42, 21))"
   ]
  },
  {
   "cell_type": "code",
   "execution_count": 8,
   "metadata": {},
   "outputs": [
    {
     "name": "stdout",
     "output_type": "stream",
     "text": [
      "{'prog_name': 'python', 'ver_name': '3.14'}\n",
      "dict_items([('prog_name', 'python'), ('ver_name', '3.14')])\n",
      "prog_name python\n",
      "ver_name 3.14\n"
     ]
    }
   ],
   "source": [
    "def print_values(arg1,**kwargs):\n",
    "    print(kwargs)\n",
    "    print(kwargs.items())\n",
    "    for key, value in kwargs.items():\n",
    "        print(key, value)\n",
    "\n",
    "print_values(35,prog_name=\"python\", ver_name=\"3.14\")"
   ]
  },
  {
   "cell_type": "markdown",
   "metadata": {},
   "source": [
    "### Pass by value/reference"
   ]
  },
  {
   "cell_type": "code",
   "execution_count": 28,
   "metadata": {},
   "outputs": [
    {
     "name": "stdout",
     "output_type": "stream",
     "text": [
      "Before the call, x is 1\n",
      "\tn inside the function is 2\n",
      "After the call, x is 1\n"
     ]
    }
   ],
   "source": [
    "def increment(n):#Pass by value\n",
    "    n+=1\n",
    "    print(\"\\tn inside the function is\", n)\n",
    "\n",
    "x = 1\n",
    "print(\"Before the call, x is\", x)\n",
    "increment(x)\n",
    "print(\"After the call, x is\", x)"
   ]
  },
  {
   "cell_type": "code",
   "execution_count": 29,
   "metadata": {},
   "outputs": [],
   "source": [
    "#Mutable objects are pass by reference\n",
    "def f(x, y=[]):#Default argument\n",
    "    #print(y)\n",
    "    y.append(x)\n",
    "    return y"
   ]
  },
  {
   "cell_type": "code",
   "execution_count": 30,
   "metadata": {},
   "outputs": [
    {
     "name": "stdout",
     "output_type": "stream",
     "text": [
      "[23]\n"
     ]
    }
   ],
   "source": [
    "print (f(23)) # prints: [23]"
   ]
  },
  {
   "cell_type": "code",
   "execution_count": 33,
   "metadata": {},
   "outputs": [
    {
     "name": "stdout",
     "output_type": "stream",
     "text": [
      "[23, 42, 42]\n"
     ]
    }
   ],
   "source": [
    "print (f(42))"
   ]
  },
  {
   "cell_type": "code",
   "execution_count": 34,
   "metadata": {},
   "outputs": [
    {
     "name": "stdout",
     "output_type": "stream",
     "text": [
      "[45, 12, 34, 42]\n",
      "[45, 12, 34, 42]\n"
     ]
    }
   ],
   "source": [
    "ls = [45,12,34]\n",
    "print (f(42,ls))\n",
    "print(ls)"
   ]
  },
  {
   "cell_type": "code",
   "execution_count": 35,
   "metadata": {},
   "outputs": [
    {
     "name": "stdout",
     "output_type": "stream",
     "text": [
      "[23]\n",
      "[48]\n"
     ]
    }
   ],
   "source": [
    "def f(x, y=None):\n",
    "    if y is None: \n",
    "        y = []#Copy\n",
    "    y.append(x)\n",
    "    return y\n",
    "print (f(23)) # prints: [23]\n",
    "print (f(48)) "
   ]
  },
  {
   "cell_type": "markdown",
   "metadata": {},
   "source": [
    "### Scope - Local vs Global"
   ]
  },
  {
   "cell_type": "code",
   "execution_count": 37,
   "metadata": {
    "scrolled": true
   },
   "outputs": [
    {
     "name": "stdout",
     "output_type": "stream",
     "text": [
      "Global inside function 1\n",
      "2\n",
      "Global outside function 1\n",
      "3\n"
     ]
    }
   ],
   "source": [
    "#Scope of a variable\n",
    "\n",
    "def f1():\n",
    "    localVar=2\n",
    "    print(\"Global inside function\",globalVar)#can access a global variable inside a function but cannot re assgin\n",
    "    print(localVar)\n",
    "\n",
    "globalVar = 1 #Created a global variable\n",
    "localVar=3 #Global variable that has the same name as a local variable\n",
    "f1()\n",
    "print(\"Global outside function\",globalVar)\n",
    "print(localVar) # Out of scope, so this gives an error"
   ]
  },
  {
   "cell_type": "code",
   "execution_count": 38,
   "metadata": {},
   "outputs": [
    {
     "ename": "UnboundLocalError",
     "evalue": "local variable 'globalVar' referenced before assignment",
     "output_type": "error",
     "traceback": [
      "\u001b[1;31m---------------------------------------------------------------------------\u001b[0m",
      "\u001b[1;31mUnboundLocalError\u001b[0m                         Traceback (most recent call last)",
      "\u001b[1;32m<ipython-input-38-c6c5970d69c8>\u001b[0m in \u001b[0;36m<module>\u001b[1;34m\u001b[0m\n\u001b[0;32m      8\u001b[0m \u001b[1;33m\u001b[0m\u001b[0m\n\u001b[0;32m      9\u001b[0m \u001b[0mglobalVar\u001b[0m \u001b[1;33m=\u001b[0m \u001b[1;36m1\u001b[0m \u001b[1;31m#Created a global variable - Global variable is one outside all functions\u001b[0m\u001b[1;33m\u001b[0m\u001b[1;33m\u001b[0m\u001b[0m\n\u001b[1;32m---> 10\u001b[1;33m \u001b[0mf1\u001b[0m\u001b[1;33m(\u001b[0m\u001b[1;33m)\u001b[0m\u001b[1;33m\u001b[0m\u001b[1;33m\u001b[0m\u001b[0m\n\u001b[0m\u001b[0;32m     11\u001b[0m \u001b[0mprint\u001b[0m\u001b[1;33m(\u001b[0m\u001b[0mglobalVar\u001b[0m\u001b[1;33m)\u001b[0m\u001b[1;33m\u001b[0m\u001b[1;33m\u001b[0m\u001b[0m\n",
      "\u001b[1;32m<ipython-input-38-c6c5970d69c8>\u001b[0m in \u001b[0;36mf1\u001b[1;34m()\u001b[0m\n\u001b[0;32m      2\u001b[0m \u001b[1;32mdef\u001b[0m \u001b[0mf1\u001b[0m\u001b[1;33m(\u001b[0m\u001b[1;33m)\u001b[0m\u001b[1;33m:\u001b[0m\u001b[1;33m\u001b[0m\u001b[1;33m\u001b[0m\u001b[0m\n\u001b[0;32m      3\u001b[0m     \u001b[0mlocalVar\u001b[0m\u001b[1;33m=\u001b[0m\u001b[1;36m2\u001b[0m\u001b[1;33m\u001b[0m\u001b[1;33m\u001b[0m\u001b[0m\n\u001b[1;32m----> 4\u001b[1;33m     \u001b[0mprint\u001b[0m\u001b[1;33m(\u001b[0m\u001b[1;34m\"Global before:\"\u001b[0m\u001b[1;33m,\u001b[0m\u001b[0mglobalVar\u001b[0m\u001b[1;33m)\u001b[0m\u001b[1;33m\u001b[0m\u001b[1;33m\u001b[0m\u001b[0m\n\u001b[0m\u001b[0;32m      5\u001b[0m     \u001b[0mglobalVar\u001b[0m\u001b[1;33m+=\u001b[0m\u001b[1;36m1\u001b[0m \u001b[1;31m#No local variable present for modification - so error\u001b[0m\u001b[1;33m\u001b[0m\u001b[1;33m\u001b[0m\u001b[0m\n\u001b[0;32m      6\u001b[0m     \u001b[0mprint\u001b[0m\u001b[1;33m(\u001b[0m\u001b[1;34m\"Global after: \"\u001b[0m\u001b[1;33m,\u001b[0m\u001b[0mglobalVar\u001b[0m\u001b[1;33m)\u001b[0m\u001b[1;33m\u001b[0m\u001b[1;33m\u001b[0m\u001b[0m\n",
      "\u001b[1;31mUnboundLocalError\u001b[0m: local variable 'globalVar' referenced before assignment"
     ]
    }
   ],
   "source": [
    "#Scope of a variable\n",
    "def f1():\n",
    "    localVar=2\n",
    "    print(\"Global before:\",globalVar)\n",
    "    globalVar+=1 #No local variable present for modification - so error\n",
    "    print(\"Global after: \",globalVar)\n",
    "    print(\"Local: \",localVar)\n",
    "\n",
    "globalVar = 1 #Created a global variable - Global variable is one outside all functions\n",
    "f1()\n",
    "print(globalVar)"
   ]
  },
  {
   "cell_type": "code",
   "execution_count": null,
   "metadata": {},
   "outputs": [],
   "source": [
    "#Scope of a variable\n",
    "def f1():\n",
    "    localVar=2\n",
    "    globalVar = 1 #Treated as a local variable with same name as the global one\n",
    "    globalVar+=1 \n",
    "    print(\"Inside function global\",globalVar)\n",
    "    print(localVar)\n",
    "\n",
    "globalVar = 1 #Created a global variable\n",
    "f1()\n",
    "print(\"Outside function global\",globalVar)"
   ]
  },
  {
   "cell_type": "code",
   "execution_count": 39,
   "metadata": {},
   "outputs": [
    {
     "name": "stdout",
     "output_type": "stream",
     "text": [
      "Inside function global 2\n",
      "2\n",
      "Outside function global 2\n"
     ]
    }
   ],
   "source": [
    "globalVar = 1 #Created a global variable\n",
    "def f1():\n",
    "    localVar=2\n",
    "    global globalVar #Use the global variable\n",
    "    globalVar+=1 \n",
    "    print(\"Inside function global\",globalVar)\n",
    "    print(localVar)\n",
    "\n",
    "f1()\n",
    "print(\"Outside function global\",globalVar)"
   ]
  },
  {
   "cell_type": "markdown",
   "metadata": {},
   "source": [
    "### Lambda functions"
   ]
  },
  {
   "cell_type": "code",
   "execution_count": null,
   "metadata": {},
   "outputs": [],
   "source": [
    "def f (x): return x**2 \n",
    "print(f(8))\n",
    "\n",
    "g = lambda x,y: x**y\n",
    "print(g(8,2))"
   ]
  },
  {
   "cell_type": "code",
   "execution_count": null,
   "metadata": {},
   "outputs": [],
   "source": [
    "foo = [2, 18, 9, 22, 17, 24, 8, 12, 27]\n",
    "print(list(filter(lambda x: x % 3 == 0, foo)))\n",
    "\n",
    "print (list(map(lambda x: x * 2 + 10, foo)))"
   ]
  },
  {
   "cell_type": "code",
   "execution_count": 1,
   "metadata": {},
   "outputs": [
    {
     "data": {
      "text/plain": [
       "(8, 256)"
      ]
     },
     "execution_count": 1,
     "metadata": {},
     "output_type": "execute_result"
    }
   ],
   "source": [
    "#1. GCD and LCM\n",
    "def compute(a,b,c):\n",
    "    #GCD computation\n",
    "    mi = min(a,b,c)\n",
    "    gcd = 1\n",
    "    for i in range(2,mi+1):\n",
    "        if a%i==0 and b%i==0 and c%i==0:\n",
    "            gcd=i\n",
    "    \n",
    "    #LCM Computation\n",
    "    ma = max(a,b,c)\n",
    "    lcm = ma\n",
    "    while(True):\n",
    "        if ma%a ==0 and ma%b==0 and ma%c==0:\n",
    "            lcm = ma\n",
    "            break\n",
    "        else:\n",
    "            ma+=1\n",
    "    return gcd,lcm\n",
    "compute(8,16,256)"
   ]
  },
  {
   "cell_type": "code",
   "execution_count": 2,
   "metadata": {},
   "outputs": [
    {
     "name": "stdout",
     "output_type": "stream",
     "text": [
      "Valid\n"
     ]
    }
   ],
   "source": [
    "# 2. Check sides of a triangle\n",
    "def checkTriangle(a, b, c):  \n",
    "      \n",
    "    # check condition  \n",
    "    if (a + b <= c) or (a + c <= b) or (b + c <= a) : \n",
    "        return False\n",
    "    else: \n",
    "        return True        \n",
    "if checkTriangle(5,7,10): \n",
    "    print(\"Valid\")  \n",
    "else: \n",
    "    print(\"Invalid\") "
   ]
  },
  {
   "cell_type": "code",
   "execution_count": null,
   "metadata": {},
   "outputs": [],
   "source": []
  }
 ],
 "metadata": {
  "anaconda-cloud": {},
  "interpreter": {
   "hash": "a9cff5a362bc38ef45d817ae74b1af54d6a076e3d773891282bce078b815ba34"
  },
  "kernelspec": {
   "display_name": "Python 3.10.2 64-bit",
   "language": "python",
   "name": "python3"
  },
  "language_info": {
   "codemirror_mode": {
    "name": "ipython",
    "version": 3
   },
   "file_extension": ".py",
   "mimetype": "text/x-python",
   "name": "python",
   "nbconvert_exporter": "python",
   "pygments_lexer": "ipython3",
   "version": "3.10.2"
  }
 },
 "nbformat": 4,
 "nbformat_minor": 1
}
