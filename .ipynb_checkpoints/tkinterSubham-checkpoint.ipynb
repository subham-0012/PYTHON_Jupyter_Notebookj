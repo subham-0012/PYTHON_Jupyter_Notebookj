{
 "cells": [
  {
   "cell_type": "code",
   "execution_count": null,
   "id": "6208076e",
   "metadata": {},
   "outputs": [],
   "source": [
    "from tkinter import *\n",
    "lbl1 = Label(None,text=\"Enter 1st grade\")\n",
    "lbl2 = Label(None,text=\"Enter 2nd grade\")\n",
    "Resultlbl = Label(None,text=\"Result\")\n",
    "el1=Entry(None)\n",
    "el2=Entry(None)\n",
    "def result():\n",
    "    num1=int(el1.get())\n",
    "    num2=int(el2.get())\n",
    "    num3=\"\"\n",
    "    if int((num1+num2)/2)>90:\n",
    "        num3=\"A\"\n",
    "    else:\n",
    "        num3=\"B\"\n",
    "    Resultlbl.config(text=\"Result is \"+num3)\n",
    "btn=Button(None,text=\"Get Result\",command=result)\n",
    "lbl1.grid(row=2,column=2)\n",
    "lbl2.grid(row=3,column=2)\n",
    "el1.grid(row=2,column=3)\n",
    "el2.grid(row=3,column=3)\n",
    "btn.grid(row=4,column=2)\n",
    "Resultlbl.grid(row=5,column=2)\n",
    "mainloop()"
   ]
  },
  {
   "cell_type": "code",
   "execution_count": null,
   "id": "1faa9320",
   "metadata": {},
   "outputs": [],
   "source": []
  },
  {
   "cell_type": "code",
   "execution_count": null,
   "id": "54580a70",
   "metadata": {},
   "outputs": [],
   "source": []
  }
 ],
 "metadata": {
  "interpreter": {
   "hash": "a9cff5a362bc38ef45d817ae74b1af54d6a076e3d773891282bce078b815ba34"
  },
  "kernelspec": {
   "display_name": "Python 3.10.2 64-bit",
   "language": "python",
   "name": "python3"
  },
  "language_info": {
   "codemirror_mode": {
    "name": "ipython",
    "version": 3
   },
   "file_extension": ".py",
   "mimetype": "text/x-python",
   "name": "python",
   "nbconvert_exporter": "python",
   "pygments_lexer": "ipython3",
   "version": "3.10.2"
  }
 },
 "nbformat": 4,
 "nbformat_minor": 5
}
