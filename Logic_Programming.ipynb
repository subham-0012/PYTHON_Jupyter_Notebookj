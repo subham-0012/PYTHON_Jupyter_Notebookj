{
 "cells": [
  {
   "cell_type": "code",
   "execution_count": 3,
   "metadata": {
    "colab": {},
    "colab_type": "code",
    "id": "utWy9I0bpTeX"
   },
   "outputs": [],
   "source": [
    "from pyDatalog import pyDatalog"
   ]
  },
  {
   "cell_type": "code",
   "execution_count": null,
   "metadata": {
    "colab": {
     "base_uri": "https://localhost:8080/",
     "height": 34
    },
    "colab_type": "code",
    "id": "TS2x0HnHtJb9",
    "outputId": "a11cb8de-bbda-4a12-e4b3-dc7c3cc6b9d4"
   },
   "outputs": [],
   "source": [
    "pip install --upgrade pyDatalog"
   ]
  },
  {
   "cell_type": "code",
   "execution_count": null,
   "metadata": {
    "colab": {
     "base_uri": "https://localhost:8080/",
     "height": 207
    },
    "colab_type": "code",
    "id": "wvE0jt_6s9cv",
    "outputId": "606969b4-cee9-411d-e1b8-a2ed0e853bda"
   },
   "outputs": [],
   "source": [
    "pip install pyDatalog"
   ]
  },
  {
   "cell_type": "code",
   "execution_count": 15,
   "metadata": {
    "colab": {
     "base_uri": "https://localhost:8080/",
     "height": 68
    },
    "colab_type": "code",
    "id": "OrVyxxM7tT3_",
    "outputId": "b5c4e72a-a50b-4ef4-8895-6217637e48b4"
   },
   "outputs": [
    {
     "name": "stdout",
     "output_type": "stream",
     "text": [
      "X\n",
      "-\n",
      "1\n"
     ]
    }
   ],
   "source": [
    "pyDatalog.create_terms('X,Y')#Creating variables     \n",
    "\n",
    "print(X==1)#Give me all X so that X is 1 "
   ]
  },
  {
   "cell_type": "code",
   "execution_count": 3,
   "metadata": {
    "colab": {
     "base_uri": "https://localhost:8080/",
     "height": 68
    },
    "colab_type": "code",
    "id": "1bFmOGvftdEh",
    "outputId": "4513719c-5fa0-4c9b-e0c3-3c7071076001"
   },
   "outputs": [
    {
     "name": "stdout",
     "output_type": "stream",
     "text": [
      "X    | Y    \n",
      "-----|------\n",
      "True | False\n"
     ]
    }
   ],
   "source": [
    "print((X==True) & (Y==False))\n",
    "#Give all possible values of X and Y for which the stattement is true"
   ]
  },
  {
   "cell_type": "code",
   "execution_count": 4,
   "metadata": {},
   "outputs": [
    {
     "name": "stdout",
     "output_type": "stream",
     "text": [
      "[]\n"
     ]
    }
   ],
   "source": [
    "print((X==True) & (X==False))"
   ]
  },
  {
   "cell_type": "code",
   "execution_count": 16,
   "metadata": {
    "colab": {
     "base_uri": "https://localhost:8080/",
     "height": 102
    },
    "colab_type": "code",
    "id": "ZF_IcQLttjWe",
    "outputId": "e12f4e8c-c046-4914-f341-cfee1ca200fc"
   },
   "outputs": [
    {
     "name": "stdout",
     "output_type": "stream",
     "text": [
      "X      | Y      \n",
      "-------|--------\n",
      "subham | Hello s\n"
     ]
    }
   ],
   "source": [
    "print((X==input('Please enter your name : ')) & (Y=='Hello ' + X[0]))"
   ]
  },
  {
   "cell_type": "code",
   "execution_count": 5,
   "metadata": {
    "colab": {
     "base_uri": "https://localhost:8080/",
     "height": 68
    },
    "colab_type": "code",
    "id": "_jy12oRot2TY",
    "outputId": "c75f6aef-7ef3-42ac-ede8-168855779eb5"
   },
   "outputs": [
    {
     "name": "stdout",
     "output_type": "stream",
     "text": [
      "X         | Y\n",
      "----------|--\n",
      "(1, 2, 3) | 3\n"
     ]
    }
   ],
   "source": [
    "print((X==(1,2)+(3,)) & (Y==X[2]))"
   ]
  },
  {
   "cell_type": "code",
   "execution_count": 6,
   "metadata": {
    "colab": {
     "base_uri": "https://localhost:8080/",
     "height": 68
    },
    "colab_type": "code",
    "id": "hV1_JGNjt9FU",
    "outputId": "5957b217-c171-49e3-e60c-27b887afd268"
   },
   "outputs": [
    {
     "name": "stdout",
     "output_type": "stream",
     "text": [
      "X | Y\n",
      "--|--\n",
      "1 | 2\n"
     ]
    }
   ],
   "source": [
    "#To use your own functions in logic expressions, \n",
    "#define them in Python, then ask pyDatalog to create logical terms for them:\n",
    "def twice(a):\n",
    "    return a+a\n",
    "\n",
    "pyDatalog.create_terms('twice')\n",
    "\n",
    "print((X==1) & (Y==twice(X)))"
   ]
  },
  {
   "cell_type": "code",
   "execution_count": null,
   "metadata": {
    "colab": {
     "base_uri": "https://localhost:8080/",
     "height": 68
    },
    "colab_type": "code",
    "id": "SbgvnyH-uF6X",
    "outputId": "a9283aee-95a5-4535-cafb-47651fd70343"
   },
   "outputs": [],
   "source": [
    "#pyDatalog variables can be passed to functions in the Python standard library\n",
    "import math\n",
    "pyDatalog.create_terms('math')\n",
    "print((X==2) & (Y==math.sqrt(X)))"
   ]
  },
  {
   "cell_type": "code",
   "execution_count": 7,
   "metadata": {
    "colab": {},
    "colab_type": "code",
    "id": "HoEaMMzXugaO"
   },
   "outputs": [],
   "source": [
    "from pyDatalog import pyDatalog\n",
    "pyDatalog.create_terms('X,Y,Z')"
   ]
  },
  {
   "cell_type": "code",
   "execution_count": 8,
   "metadata": {
    "colab": {
     "base_uri": "https://localhost:8080/",
     "height": 153
    },
    "colab_type": "code",
    "id": "6iQFQwYkujdX",
    "outputId": "f01155a9-cdbe-4cb2-8c24-8143de2d7183",
    "scrolled": true
   },
   "outputs": [
    {
     "name": "stdout",
     "output_type": "stream",
     "text": [
      "X\n",
      "-\n",
      "4\n",
      "3\n",
      "2\n",
      "1\n",
      "0\n"
     ]
    }
   ],
   "source": [
    "# give me all the X so that X in the list of numbers\n",
    "print(X.in_((0,1,2,3,4)))\n",
    "#print(X)"
   ]
  },
  {
   "cell_type": "code",
   "execution_count": 9,
   "metadata": {
    "colab": {
     "base_uri": "https://localhost:8080/",
     "height": 51
    },
    "colab_type": "code",
    "id": "uaxv_wsbu-U2",
    "outputId": "1fe77147-da8d-42ff-c111-a8ffe430173e"
   },
   "outputs": [
    {
     "name": "stdout",
     "output_type": "stream",
     "text": [
      "True\n"
     ]
    }
   ],
   "source": [
    "#print(X.in_(range(5)))#give me all the X so that X is in the range 0..4\n",
    "print(X.in_(range(5)) == [(0,), (1,), (2,), (3,), (4,)])"
   ]
  },
  {
   "cell_type": "code",
   "execution_count": 10,
   "metadata": {
    "colab": {
     "base_uri": "https://localhost:8080/",
     "height": 68
    },
    "colab_type": "code",
    "id": "wFbRl2eovFy-",
    "outputId": "8bd02dc6-0ea8-42d5-8b96-0578a35c3b50"
   },
   "outputs": [
    {
     "name": "stdout",
     "output_type": "stream",
     "text": [
      "Data :  [4, 3, 2, 1, 0]\n",
      "one value :  4\n",
      "Extraction of one value of X:  4\n"
     ]
    }
   ],
   "source": [
    "print(\"Data : \",X.data)\n",
    "#after a query, a variable contains a tuple of all its possible values\n",
    "print(\"one value : \",  X.v())#Extract one value\n",
    "# below, '>=' is a variable extraction operator\n",
    "print(\"Extraction of one value of X: \", X.in_(range(5)) >= X)"
   ]
  },
  {
   "cell_type": "code",
   "execution_count": 19,
   "metadata": {
    "colab": {
     "base_uri": "https://localhost:8080/",
     "height": 85
    },
    "colab_type": "code",
    "id": "SFumAUw-vQnv",
    "outputId": "4191174e-c583-4537-a477-5c9147f489a3"
   },
   "outputs": [
    {
     "name": "stdout",
     "output_type": "stream",
     "text": [
      "_pyD_in(X,'['0', '1', '2', '3', '4']') <= <(X,'2')\n"
     ]
    }
   ],
   "source": [
    "# give me all X in range 0..4 that are below 2\n",
    "o=X.in_(range(5))<=(X<2)\n",
    "print(o)"
   ]
  },
  {
   "cell_type": "code",
   "execution_count": null,
   "metadata": {
    "colab": {
     "base_uri": "https://localhost:8080/",
     "height": 153
    },
    "colab_type": "code",
    "id": "BRtpjzBrvUIe",
    "outputId": "029f902f-cdf3-4b7a-bf8d-938f768b35ce"
   },
   "outputs": [],
   "source": [
    "# give me all X, Y and Z so that X and Y are in 0..4, Z is their sum, and Z is below 3\n",
    "print(X.in_(range(5)) &\n",
    "          Y.in_(range(5)) &\n",
    "              (Z==X+Y) &\n",
    "              (Z<3))"
   ]
  },
  {
   "cell_type": "markdown",
   "metadata": {},
   "source": [
    "# Logic Functions - Example"
   ]
  },
  {
   "cell_type": "code",
   "execution_count": 12,
   "metadata": {
    "colab": {},
    "colab_type": "code",
    "id": "7-vc7gt5vZnQ"
   },
   "outputs": [],
   "source": [
    "# calculate the net salary of employee foo and bar\n",
    "from pyDatalog import pyDatalog\n",
    "pyDatalog.create_terms('X,Y,Z, salary, tax_rate, tax_rate_for_salary_above, net_salary')"
   ]
  },
  {
   "cell_type": "code",
   "execution_count": 13,
   "metadata": {
    "colab": {
     "base_uri": "https://localhost:8080/",
     "height": 102
    },
    "colab_type": "code",
    "id": "-8Q2xY_fvd7n",
    "outputId": "53e0fa53-1dc2-422a-a76c-5749d5e88f2f"
   },
   "outputs": [
    {
     "name": "stdout",
     "output_type": "stream",
     "text": [
      "X   | Y  \n",
      "----|----\n",
      "foo | 60 \n",
      "bar | 110\n"
     ]
    }
   ],
   "source": [
    "#A function defines one value for a given argument. \n",
    "#It is similar to a python dictionary.\n",
    "salary['foo'] = 60 #One value for one argument - foo is the argument and 60 is the value\n",
    "salary['bar'] = 110\n",
    "# give me all the X and Y so that the salary of X is Y\n",
    "print(salary[X]==Y)"
   ]
  },
  {
   "cell_type": "code",
   "execution_count": null,
   "metadata": {
    "colab": {
     "base_uri": "https://localhost:8080/",
     "height": 85
    },
    "colab_type": "code",
    "id": "OKmQ9zV3vq1n",
    "outputId": "8d0ab636-d257-4adf-dd98-c7617e903511"
   },
   "outputs": [],
   "source": [
    "#A function has only one value for a given argument.\n",
    "# foo now has a salary of 70\n",
    "salary['foo'] = 70\n",
    "print(salary['foo']==Y)\n",
    "#give me all possible values for Y for which cond is true\n",
    "#or give me the salary of foo"
   ]
  },
  {
   "cell_type": "code",
   "execution_count": null,
   "metadata": {
    "colab": {
     "base_uri": "https://localhost:8080/",
     "height": 85
    },
    "colab_type": "code",
    "id": "7iOFB7n3vxqg",
    "outputId": "4f386beb-6249-4808-b554-abfaa4eb9037"
   },
   "outputs": [],
   "source": [
    "#A function can also be queried by value.\n",
    "# give me all the X that have a salary of 110\n",
    "print(salary[X]==110)"
   ]
  },
  {
   "cell_type": "code",
   "execution_count": null,
   "metadata": {
    "colab": {
     "base_uri": "https://localhost:8080/",
     "height": 68
    },
    "colab_type": "code",
    "id": "MXFJDBygv-aO",
    "outputId": "59ce7194-f407-451d-8a9c-65bfc7309c1c"
   },
   "outputs": [],
   "source": [
    "print((salary[X]==Y) & ~(Y==110)) #Negation example"
   ]
  },
  {
   "cell_type": "code",
   "execution_count": null,
   "metadata": {},
   "outputs": [],
   "source": [
    "#Define global tax\n",
    "+(tax_rate[None]==0.33)"
   ]
  },
  {
   "cell_type": "code",
   "execution_count": null,
   "metadata": {},
   "outputs": [],
   "source": [
    "#Use the tax rate defined above in a formula\n",
    "print((Z==salary[X]*(1-tax_rate[None])))"
   ]
  },
  {
   "cell_type": "code",
   "execution_count": null,
   "metadata": {},
   "outputs": [],
   "source": [
    "net_salary[X] = salary[X]*(1-tax_rate[None])\n",
    "\n",
    "# give me all the X and Y so that Y is the net salary of X\n",
    "print(net_salary[X]==Y)"
   ]
  },
  {
   "cell_type": "code",
   "execution_count": null,
   "metadata": {},
   "outputs": [],
   "source": [
    "#Sample Queries\n",
    "\n",
    "#1. Net salary of foo\n",
    "print(net_salary['foo']==Y)\n",
    "\n",
    "#2. Find persons whose salry less than 50\n",
    "print(net_salary[X]<50)"
   ]
  },
  {
   "cell_type": "code",
   "execution_count": null,
   "metadata": {},
   "outputs": [],
   "source": [
    "#Conditionals example\n",
    "# the tax rate for salaries above 0 is 33%, and above 100 is 50 %\n",
    "\n",
    "(tax_rate_for_salary_above[X] == 0.33) <= (0 <= X)\n",
    "(tax_rate_for_salary_above[X] == 0.50) <= (100 <= X)\n",
    "\n",
    "print(tax_rate_for_salary_above[70]==Y)\n",
    "print(tax_rate_for_salary_above[270]==Y)"
   ]
  },
  {
   "cell_type": "code",
   "execution_count": null,
   "metadata": {},
   "outputs": [],
   "source": [
    "#We will change the net salary definition\n",
    "del net_salary[X]"
   ]
  },
  {
   "cell_type": "code",
   "execution_count": null,
   "metadata": {},
   "outputs": [],
   "source": [
    "net_salary[X] = salary[X]*(1-tax_rate_for_salary_above[salary[X]])"
   ]
  },
  {
   "cell_type": "code",
   "execution_count": null,
   "metadata": {},
   "outputs": [],
   "source": [
    "print(net_salary[X]==Y)"
   ]
  },
  {
   "cell_type": "markdown",
   "metadata": {},
   "source": [
    "# Factorial Example"
   ]
  },
  {
   "cell_type": "code",
   "execution_count": null,
   "metadata": {
    "colab": {
     "base_uri": "https://localhost:8080/",
     "height": 68
    },
    "colab_type": "code",
    "id": "b_pxbx8ZwRxR",
    "outputId": "7524eabc-177e-49a6-a831-29cb4b20a0cc"
   },
   "outputs": [],
   "source": [
    "#Factorial of N\n",
    "pyDatalog.create_terms('factorial, N')\n",
    "\n",
    "factorial[N] = N*factorial[N-1]\n",
    "factorial[1] = 1\n",
    "\n",
    "print(factorial[3]==N)"
   ]
  },
  {
   "cell_type": "markdown",
   "metadata": {},
   "source": [
    "# Aggregate Functions"
   ]
  },
  {
   "cell_type": "code",
   "execution_count": null,
   "metadata": {
    "colab": {
     "base_uri": "https://localhost:8080/",
     "height": 68
    },
    "colab_type": "code",
    "id": "KPDxpBDmwedu",
    "outputId": "4a97062b-86a6-445b-c799-dd750bc4b646"
   },
   "outputs": [],
   "source": [
    "#Aggregate Functions - Example\n",
    "from pyDatalog import pyDatalog\n",
    "\n",
    "#Create variables\n",
    "pyDatalog.create_terms('X,Y,Z,manager, count_of_direct_reports,works_in, department_size, manager, \\\n",
    "                       indirect_manager, count_of_indirect_reports')"
   ]
  },
  {
   "cell_type": "code",
   "execution_count": null,
   "metadata": {},
   "outputs": [],
   "source": [
    "# Create facts - the manager of Mary is John\n",
    "+(manager['Mary'] == 'John')\n",
    "+(manager['Sam']  == 'Mary')\n",
    "+(manager['Tom']  == 'Mary')"
   ]
  },
  {
   "cell_type": "code",
   "execution_count": null,
   "metadata": {},
   "outputs": [],
   "source": [
    "#rule\n",
    "(count_of_direct_reports[X]==len_(Y)) <= (manager[Y]==X)\n",
    "#Query\n",
    "print(count_of_direct_reports['Mary']==Z)#Give me the count of people for whom Mary is the manager"
   ]
  },
  {
   "cell_type": "code",
   "execution_count": null,
   "metadata": {},
   "outputs": [],
   "source": [
    "#literal definition - similar to sets in Python\n",
    "# Mary works in Production\n",
    "+ works_in('Mary', 'Production')\n",
    "+ works_in('Sam',  'Marketing')\n",
    "+ works_in('John', 'Production')\n",
    "+ works_in('John', 'Marketing')"
   ]
  },
  {
   "cell_type": "code",
   "execution_count": null,
   "metadata": {},
   "outputs": [],
   "source": [
    "# procedural equivalent in Python\n",
    "_works_in = set()\n",
    "_works_in.add(('Mary', 'Production'))\n",
    "_works_in.add(('Sam',  'Marketing'))\n",
    "_works_in.add(('John', 'Production'))\n",
    "_works_in.add(('John', 'Marketing'))"
   ]
  },
  {
   "cell_type": "code",
   "execution_count": null,
   "metadata": {},
   "outputs": [],
   "source": [
    "# give me all the X that work in Marketing\n",
    "print(works_in(X,  'Marketing'))"
   ]
  },
  {
   "cell_type": "code",
   "execution_count": null,
   "metadata": {
    "colab": {
     "base_uri": "https://localhost:8080/",
     "height": 85
    },
    "colab_type": "code",
    "id": "2krzu9uTw28T",
    "outputId": "c5e9aca9-8570-4ab2-8193-c3104c1097e4"
   },
   "outputs": [],
   "source": [
    "#Create rules\n",
    "#Rule 1\n",
    "# one of the indirect manager of X is Y, if the (direct) manager of X is Y\n",
    "indirect_manager(X,Y) <= (manager[X] == Y)\n",
    "#Rule 2\n",
    "# another indirect manager of X is Y, if there is a Z so that the manager of X is Z, \n",
    "#   and an indirect manager of Z is Y\n",
    "indirect_manager(X,Y) <= (manager[X] == Z) & indirect_manager(Z,Y)"
   ]
  },
  {
   "cell_type": "code",
   "execution_count": null,
   "metadata": {
    "colab": {
     "base_uri": "https://localhost:8080/",
     "height": 85
    },
    "colab_type": "code",
    "id": "yQGz9W89xAOO",
    "outputId": "0b1d414f-3dfb-4785-c740-b2bc506767aa"
   },
   "outputs": [],
   "source": [
    "# the manager of John is Mary (whose manager is John !)\n",
    "#manager['John'] = 'Mary'#Fact\n",
    "#manager['Sam']\n",
    "print(indirect_manager('John',X))\n",
    "print(indirect_manager('Sam',Z))"
   ]
  },
  {
   "cell_type": "code",
   "execution_count": null,
   "metadata": {
    "colab": {
     "base_uri": "https://localhost:8080/",
     "height": 68
    },
    "colab_type": "code",
    "id": "XexMKf8IxDJd",
    "outputId": "ae0a9155-1910-4b5f-8619-621d26b15002"
   },
   "outputs": [],
   "source": [
    "# John does not work in Production anymore\n",
    "(count_of_indirect_reports[X]==len_(Y)) <= indirect_manager(Y,X)\n",
    "print(count_of_indirect_reports['John']==Y)"
   ]
  },
  {
   "cell_type": "markdown",
   "metadata": {},
   "source": [
    "# Tree representation"
   ]
  },
  {
   "cell_type": "code",
   "execution_count": null,
   "metadata": {
    "colab": {
     "base_uri": "https://localhost:8080/",
     "height": 34
    },
    "colab_type": "code",
    "id": "Hjdw_iwuxKvq",
    "outputId": "e472759f-4b00-4de9-9238-ba9073e0a660"
   },
   "outputs": [],
   "source": [
    "#Tree, graphs and recursive algorithms\n",
    "pyDatalog.create_terms('link, can_reach')\n",
    "\n",
    "# Create facts - there is a link between node 1 and node 2\n",
    "+link(1,2)\n",
    "+link(2,3)\n",
    "+link(2,4)\n",
    "+link(2,5)\n",
    "+link(5,6)\n",
    "+link(6,7)\n",
    "+link(7,2)"
   ]
  },
  {
   "cell_type": "code",
   "execution_count": null,
   "metadata": {},
   "outputs": [],
   "source": [
    "# Create rules - links are bi-directional\n",
    "link(X,Y) <= link(Y,X)\n",
    "can_reach(X,Y) <= link(X,Y) # direct link\n",
    "# via Z\n",
    "can_reach(X,Y) <= link(X,Z) & can_reach(Z,Y) & (X!=Y)"
   ]
  },
  {
   "cell_type": "code",
   "execution_count": null,
   "metadata": {
    "colab": {
     "base_uri": "https://localhost:8080/",
     "height": 153
    },
    "colab_type": "code",
    "id": "P980TimTxUlc",
    "outputId": "f7deb8e2-2308-4a3e-8990-4a845fa04c6f"
   },
   "outputs": [],
   "source": [
    "# Answer Queries - can Y be reached from X ?\n",
    "print (can_reach(4,Y))"
   ]
  },
  {
   "cell_type": "code",
   "execution_count": null,
   "metadata": {},
   "outputs": [],
   "source": [
    "print(link(X,2))"
   ]
  },
  {
   "cell_type": "code",
   "execution_count": null,
   "metadata": {},
   "outputs": [],
   "source": []
  }
 ],
 "metadata": {
  "anaconda-cloud": {},
  "colab": {
   "collapsed_sections": [],
   "name": "Untitled15.ipynb",
   "provenance": []
  },
  "kernelspec": {
   "display_name": "Python 3.9.7 ('base')",
   "language": "python",
   "name": "python3"
  },
  "language_info": {
   "codemirror_mode": {
    "name": "ipython",
    "version": 3
   },
   "file_extension": ".py",
   "mimetype": "text/x-python",
   "name": "python",
   "nbconvert_exporter": "python",
   "pygments_lexer": "ipython3",
   "version": "3.9.7"
  },
  "vscode": {
   "interpreter": {
    "hash": "dc07d24e2f18896857f0b2a651fe84ba40ce7b297e58d8804a308c8039f752a6"
   }
  }
 },
 "nbformat": 4,
 "nbformat_minor": 1
}
