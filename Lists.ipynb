{
 "cells": [
  {
   "cell_type": "markdown",
   "metadata": {},
   "source": [
    "# Special cases of slicing in lists"
   ]
  },
  {
   "cell_type": "code",
   "execution_count": 1,
   "metadata": {},
   "outputs": [
    {
     "name": "stdout",
     "output_type": "stream",
     "text": [
      "Count of even  3\n",
      "Count of odd  5\n"
     ]
    }
   ],
   "source": [
    "l = [31,56,78,12,33,45,67,89]\n",
    "e=0\n",
    "o=0\n",
    "for elem in l:\n",
    "    if elem%2==0:\n",
    "        e+=1\n",
    "    else:\n",
    "        o+=1\n",
    "print(\"Count of even \",e)\n",
    "print(\"Count of odd \",o)"
   ]
  },
  {
   "cell_type": "code",
   "execution_count": 2,
   "metadata": {},
   "outputs": [
    {
     "name": "stdout",
     "output_type": "stream",
     "text": [
      "[1, 2, 3, 4, 5]\n"
     ]
    }
   ],
   "source": [
    "l = [1,2,3,4,5]\n",
    "print(l)"
   ]
  },
  {
   "cell_type": "code",
   "execution_count": 3,
   "metadata": {},
   "outputs": [
    {
     "data": {
      "text/plain": [
       "[2, 3]"
      ]
     },
     "execution_count": 3,
     "metadata": {},
     "output_type": "execute_result"
    }
   ],
   "source": [
    "l[1:3]#Slicing"
   ]
  },
  {
   "cell_type": "code",
   "execution_count": 4,
   "metadata": {},
   "outputs": [
    {
     "name": "stdout",
     "output_type": "stream",
     "text": [
      "[1, 4, 5]\n"
     ]
    }
   ],
   "source": [
    "#Slices in assignment\n",
    "#Empty list as RHS, Slice or List as LHS\n",
    "l[1:3] = []\n",
    "print(l)"
   ]
  },
  {
   "cell_type": "code",
   "execution_count": 5,
   "metadata": {},
   "outputs": [
    {
     "data": {
      "text/plain": [
       "[5]"
      ]
     },
     "execution_count": 5,
     "metadata": {},
     "output_type": "execute_result"
    }
   ],
   "source": [
    "l[100:1:-1]"
   ]
  },
  {
   "cell_type": "code",
   "execution_count": 6,
   "metadata": {},
   "outputs": [
    {
     "data": {
      "text/plain": [
       "[1, 4, 5]"
      ]
     },
     "execution_count": 6,
     "metadata": {},
     "output_type": "execute_result"
    }
   ],
   "source": [
    "l"
   ]
  },
  {
   "cell_type": "code",
   "execution_count": 60,
   "metadata": {},
   "outputs": [
    {
     "name": "stdout",
     "output_type": "stream",
     "text": [
      "[1, 4, 5, 90, 1213, 1212]\n"
     ]
    }
   ],
   "source": [
    "#Empty slice of L as LHS, Another list as RHS\n",
    "l[100:1] = [90,1213,1212]\n",
    "print(l)"
   ]
  },
  {
   "cell_type": "code",
   "execution_count": 15,
   "metadata": {},
   "outputs": [
    {
     "name": "stdout",
     "output_type": "stream",
     "text": [
      "[11, 22, 33, 44]\n"
     ]
    }
   ],
   "source": [
    "#Entire list slice as LHS, Another list as RHS\n",
    "l[:] = [11,22,33,44]\n",
    "print(l)"
   ]
  },
  {
   "cell_type": "code",
   "execution_count": 8,
   "metadata": {},
   "outputs": [
    {
     "name": "stdout",
     "output_type": "stream",
     "text": [
      "[4, 7, 8, 4, 7, 8]\n"
     ]
    }
   ],
   "source": [
    "l1=[4,7,8]\n",
    "l2=l1*-2 #negative integer?\n",
    "print(l2)"
   ]
  },
  {
   "cell_type": "markdown",
   "metadata": {},
   "source": [
    "# Create lists"
   ]
  },
  {
   "cell_type": "code",
   "execution_count": 61,
   "metadata": {},
   "outputs": [],
   "source": [
    "#List is mutable datatype\n",
    "l1=['value1']\n",
    "l2=['a','b','c',1,2,3]#Can have mixed data types\n",
    "L = ['abc', ['def', 'ghi']] #Nested sublists"
   ]
  },
  {
   "cell_type": "code",
   "execution_count": 62,
   "metadata": {},
   "outputs": [
    {
     "name": "stdout",
     "output_type": "stream",
     "text": [
      "['p', 'y', 't', 'h', 'o', 'n', 'p', 'y', 't', 'h', 'o', 'n']\n"
     ]
    }
   ],
   "source": [
    "l4=list('python')*2\n",
    "print(l4)"
   ]
  },
  {
   "cell_type": "code",
   "execution_count": 63,
   "metadata": {},
   "outputs": [
    {
     "name": "stdout",
     "output_type": "stream",
     "text": [
      "['value1']\n",
      "['a', 'b', 'c', 1, 2, 3]\n",
      "['p', 'y', 't', 'h', 'o', 'n', 'p', 'y', 't', 'h', 'o', 'n']\n"
     ]
    }
   ],
   "source": [
    "print (l1)\n",
    "print (l2)\n",
    "print (l4) "
   ]
  },
  {
   "cell_type": "code",
   "execution_count": 64,
   "metadata": {},
   "outputs": [
    {
     "data": {
      "text/plain": [
       "['h', 'e', 'l', 'l', 'o']"
      ]
     },
     "execution_count": 64,
     "metadata": {},
     "output_type": "execute_result"
    }
   ],
   "source": [
    "l1=list(\"hello\")\n",
    "l1"
   ]
  },
  {
   "cell_type": "code",
   "execution_count": 65,
   "metadata": {},
   "outputs": [
    {
     "name": "stdout",
     "output_type": "stream",
     "text": [
      "[-4, -3, -2, -1, 0, 1, 2, 3]\n"
     ]
    }
   ],
   "source": [
    "L = list(range(-4, 4))\n",
    "print (L)"
   ]
  },
  {
   "cell_type": "code",
   "execution_count": 66,
   "metadata": {},
   "outputs": [
    {
     "name": "stdout",
     "output_type": "stream",
     "text": [
      "Acessing a element from a Multi-Dimensional list\n",
      "For\n",
      "y\n"
     ]
    }
   ],
   "source": [
    "# Creating a Multi-Dimensional List \n",
    "List = [['Love', 'For'] , ['Python']] \n",
    " \n",
    "# accessing a element in nested list \n",
    "print(\"Acessing a element from a Multi-Dimensional list\") \n",
    "print(List[0][1]) \n",
    "print(List[1][0][1])"
   ]
  },
  {
   "cell_type": "raw",
   "metadata": {},
   "source": [
    "Your turn\n",
    "Find what is the output"
   ]
  },
  {
   "cell_type": "code",
   "execution_count": 67,
   "metadata": {},
   "outputs": [
    {
     "data": {
      "text/plain": [
       "['o', 'k', 'e', 'c']"
      ]
     },
     "execution_count": 67,
     "metadata": {},
     "output_type": "execute_result"
    }
   ],
   "source": [
    "letters = ['c', 'h', 'e', 'c', 'k' , 'i', 'o']\n",
    "letters[::-2]"
   ]
  },
  {
   "cell_type": "code",
   "execution_count": 68,
   "metadata": {},
   "outputs": [
    {
     "data": {
      "text/plain": [
       "['c', 'e', 'k', 'o']"
      ]
     },
     "execution_count": 68,
     "metadata": {},
     "output_type": "execute_result"
    }
   ],
   "source": [
    "letters[::2]"
   ]
  },
  {
   "cell_type": "code",
   "execution_count": 69,
   "metadata": {},
   "outputs": [
    {
     "data": {
      "text/plain": [
       "['h', 'c', 'i']"
      ]
     },
     "execution_count": 69,
     "metadata": {},
     "output_type": "execute_result"
    }
   ],
   "source": [
    "letters[1::2]"
   ]
  },
  {
   "cell_type": "code",
   "execution_count": 70,
   "metadata": {},
   "outputs": [
    {
     "name": "stdout",
     "output_type": "stream",
     "text": [
      "6\n",
      "10\n",
      "1\n",
      "4\n"
     ]
    }
   ],
   "source": [
    "#operations in sequences\n",
    "l=[1,2,3,4]\n",
    "s=\"python\"\n",
    "print (len(s))\n",
    "print (sum(l))\n",
    "print (min(l))\n",
    "print (max(l))"
   ]
  },
  {
   "cell_type": "code",
   "execution_count": null,
   "metadata": {},
   "outputs": [],
   "source": [
    "# LIST - BUILT IN FUNCTIONS SUMMARY\n",
    "# All are invoked as listobject.---\n",
    "# append(element) - Add an element to the end of the list\n",
    "# extend(newlist) - Add all elements of newlist to the existing list\n",
    "# insert(item) - Insert an item at the defined index\n",
    "# remove(item) - Removes an item from the list\n",
    "# pop() - Removes and returns an element at the given index\n",
    "# clear() - Removes all items from the list\n",
    "# index(item) - Returns the index of the first matched item\n",
    "# count(item) - Returns the count of number of items passed as an argument\n",
    "# sort() - Sort items in a list in ascending order\n",
    "# reverse() - Reverse the order of items in the list\n",
    "# copy() - Returns a shallow copy of the list"
   ]
  },
  {
   "cell_type": "markdown",
   "metadata": {},
   "source": [
    "## Insert elements - append, insert"
   ]
  },
  {
   "cell_type": "code",
   "execution_count": 71,
   "metadata": {},
   "outputs": [
    {
     "name": "stdout",
     "output_type": "stream",
     "text": [
      "[23, 35, 12, 37, 78, 889]\n"
     ]
    }
   ],
   "source": [
    "#Add elements to a list\n",
    "l4 =[23,35,12,37,78]\n",
    "l4.append(889)#Adds element at end\n",
    "print(l4)"
   ]
  },
  {
   "cell_type": "code",
   "execution_count": 72,
   "metadata": {},
   "outputs": [],
   "source": [
    "l4.insert(2,3409)"
   ]
  },
  {
   "cell_type": "code",
   "execution_count": 73,
   "metadata": {},
   "outputs": [
    {
     "data": {
      "text/plain": [
       "[23, 35, 3409, 12, 37, 78, 889]"
      ]
     },
     "execution_count": 73,
     "metadata": {},
     "output_type": "execute_result"
    }
   ],
   "source": [
    "l4"
   ]
  },
  {
   "cell_type": "code",
   "execution_count": 74,
   "metadata": {},
   "outputs": [
    {
     "name": "stdout",
     "output_type": "stream",
     "text": [
      "[1, 2, 3, 4, 5, 'next is this']\n"
     ]
    }
   ],
   "source": [
    "l1=[1,2,3,4,5]\n",
    "#No error adds to the beginning or end according to sign\n",
    "l1.insert(200, 'next is this')\n",
    "print(l1)"
   ]
  },
  {
   "cell_type": "code",
   "execution_count": 31,
   "metadata": {},
   "outputs": [
    {
     "ename": "ValueError",
     "evalue": "3500 is not in list",
     "output_type": "error",
     "traceback": [
      "\u001b[1;31m---------------------------------------------------------------------------\u001b[0m",
      "\u001b[1;31mValueError\u001b[0m                                Traceback (most recent call last)",
      "\u001b[1;32mc:\\Users\\HP\\Desktop\\APP\\APP Jupyter Notebok\\Lists.ipynb Cell 29'\u001b[0m in \u001b[0;36m<cell line: 1>\u001b[1;34m()\u001b[0m\n\u001b[1;32m----> <a href='vscode-notebook-cell:/c%3A/Users/HP/Desktop/APP/APP%20Jupyter%20Notebok/Lists.ipynb#ch0000028?line=0'>1</a>\u001b[0m \u001b[39mprint\u001b[39m(l4\u001b[39m.\u001b[39;49mindex(\u001b[39m3500\u001b[39;49m))\n",
      "\u001b[1;31mValueError\u001b[0m: 3500 is not in list"
     ]
    }
   ],
   "source": [
    "print(l4.index(3500))#Throws an exception if the index does not exist"
   ]
  },
  {
   "cell_type": "markdown",
   "metadata": {},
   "source": [
    "## Extend list"
   ]
  },
  {
   "cell_type": "code",
   "execution_count": 32,
   "metadata": {},
   "outputs": [
    {
     "name": "stdout",
     "output_type": "stream",
     "text": [
      "[1, 2, 4, 5]\n"
     ]
    }
   ],
   "source": [
    "z=[1,2]\n",
    "z.extend([4,5])\n",
    "print (z)"
   ]
  },
  {
   "cell_type": "markdown",
   "metadata": {},
   "source": [
    "# Remove elements"
   ]
  },
  {
   "cell_type": "code",
   "execution_count": 33,
   "metadata": {},
   "outputs": [
    {
     "name": "stdout",
     "output_type": "stream",
     "text": [
      "[1, 2, 3, 5, 2, 4, 4]\n"
     ]
    }
   ],
   "source": [
    "l1=[1,2,3,4,5,2,4,4]\n",
    "l1.remove(4) #4 here is element and not index. Error if element not found\n",
    "print(l1)"
   ]
  },
  {
   "cell_type": "code",
   "execution_count": null,
   "metadata": {},
   "outputs": [
    {
     "name": "stdout",
     "output_type": "stream",
     "text": [
      "5\n",
      "[1, 2, 3, 4]\n"
     ]
    }
   ],
   "source": [
    "l1=[1,2,3,4,5]\n",
    "print (l1.pop())#Removes the last element and returns it\n",
    "print(l1)\n"
   ]
  },
  {
   "cell_type": "code",
   "execution_count": null,
   "metadata": {},
   "outputs": [
    {
     "name": "stdout",
     "output_type": "stream",
     "text": [
      "4\n",
      "[1, 2, 3, 5]\n"
     ]
    }
   ],
   "source": [
    "l1=[1,2,3,4,5]\n",
    "print (l1.pop(3))#Removes element at index 3 and returns it. Error on invalid index\n",
    "print(l1)"
   ]
  },
  {
   "cell_type": "code",
   "execution_count": 36,
   "metadata": {},
   "outputs": [
    {
     "name": "stdout",
     "output_type": "stream",
     "text": [
      "after delete [2, 4, 6, 8]\n"
     ]
    }
   ],
   "source": [
    "l1=[1,2,3,4,5,6,7,8]\n",
    "del l1[::2]\n",
    "print (\"after delete\",l1)"
   ]
  },
  {
   "cell_type": "markdown",
   "metadata": {},
   "source": [
    "# Other operations on list"
   ]
  },
  {
   "cell_type": "code",
   "execution_count": 37,
   "metadata": {},
   "outputs": [
    {
     "name": "stdout",
     "output_type": "stream",
     "text": [
      "reverse  [8, 6, 4, 2]\n"
     ]
    }
   ],
   "source": [
    "l1.reverse()# or reversed(l1)\n",
    "print (\"reverse \",l1)"
   ]
  },
  {
   "cell_type": "code",
   "execution_count": 38,
   "metadata": {},
   "outputs": [
    {
     "name": "stdout",
     "output_type": "stream",
     "text": [
      "sorted l1 [2, 5, 7, 8, 12, 35, 68, 94]\n"
     ]
    }
   ],
   "source": [
    "l1=[12,2,35,94,5,68,7,8]\n",
    "l1.sort()\n",
    "#l1.sort(reverse=True)\n",
    "print (\"sorted l1\",l1)\n"
   ]
  },
  {
   "cell_type": "raw",
   "metadata": {},
   "source": [
    "sort() - Sorts the items of the list in place. \n",
    "\n",
    "The arguments can be used to customize the operation.\n",
    "\n",
    "1. key\n",
    "    Specifies a function of one argument that is used to extract a comparison key from each list element. \n",
    "    The default value is None (compares the elements directly).\n",
    "2. reverse\n",
    "    Boolean value. If set to True, then the list elements are sorted as if each comparison were reversed. "
   ]
  },
  {
   "cell_type": "code",
   "execution_count": 39,
   "metadata": {},
   "outputs": [
    {
     "name": "stdout",
     "output_type": "stream",
     "text": [
      "[1, 2, 3, 4, 5, 6]\n"
     ]
    }
   ],
   "source": [
    "a = [3,6,5,2,4,1]\n",
    "a.sort()\n",
    "print(a)\n"
   ]
  },
  {
   "cell_type": "code",
   "execution_count": 40,
   "metadata": {},
   "outputs": [
    {
     "name": "stdout",
     "output_type": "stream",
     "text": [
      "[6, 5, 4, 3, 2, 1]\n"
     ]
    }
   ],
   "source": [
    "a = [3,6,5,2,4,1]\n",
    "a.sort(reverse=True)#descending sort\n",
    "print(a)\n"
   ]
  },
  {
   "cell_type": "code",
   "execution_count": 41,
   "metadata": {},
   "outputs": [
    {
     "name": "stdout",
     "output_type": "stream",
     "text": [
      "['ant', 'bee', 'moth', 'wasp']\n"
     ]
    }
   ],
   "source": [
    "a = [\"bee\", \"wasp\", \"moth\", \"ant\"]\n",
    "a.sort()\n",
    "print(a)\n"
   ]
  },
  {
   "cell_type": "code",
   "execution_count": 42,
   "metadata": {},
   "outputs": [
    {
     "name": "stdout",
     "output_type": "stream",
     "text": [
      "['bee', 'wasp', 'butterfly']\n"
     ]
    }
   ],
   "source": [
    "a = [\"bee\", \"wasp\", \"butterfly\"]\n",
    "a.sort(key=len)#sort according to what?\n",
    "print(a)\n"
   ]
  },
  {
   "cell_type": "code",
   "execution_count": 43,
   "metadata": {},
   "outputs": [
    {
     "name": "stdout",
     "output_type": "stream",
     "text": [
      "['butterfly', 'wasp', 'bee']\n"
     ]
    }
   ],
   "source": [
    "a = [\"bee\", \"wasp\", \"butterfly\"]\n",
    "a.sort(key=len, reverse=True)\n",
    "print(a)\n"
   ]
  },
  {
   "cell_type": "code",
   "execution_count": 75,
   "metadata": {},
   "outputs": [
    {
     "name": "stdout",
     "output_type": "stream",
     "text": [
      "['ABD', 'aBe', 'abc']\n"
     ]
    }
   ],
   "source": [
    "L = ['abc', 'ABD', 'aBe']\n",
    "L.sort()  # Sort with mixed case\n",
    "print(L)\n"
   ]
  },
  {
   "cell_type": "code",
   "execution_count": 46,
   "metadata": {},
   "outputs": [
    {
     "name": "stdout",
     "output_type": "stream",
     "text": [
      "['abc', 'ABD', 'aBe']\n"
     ]
    }
   ],
   "source": [
    "L = ['abc', 'aBe','ABD']\n",
    "L.sort(key=str.lower)  # Normalize to lowercase\n",
    "print(L)\n"
   ]
  },
  {
   "cell_type": "code",
   "execution_count": 47,
   "metadata": {},
   "outputs": [
    {
     "name": "stdout",
     "output_type": "stream",
     "text": [
      "['aBe', 'ABD', 'abc']\n"
     ]
    }
   ],
   "source": [
    "L = ['abc', 'ABD', 'aBe']\n",
    "L.sort(key=str.lower, reverse=True)  # Change sort order\n",
    "print (L)"
   ]
  },
  {
   "cell_type": "markdown",
   "metadata": {
    "collapsed": true
   },
   "source": [
    "### List Comprehension"
   ]
  },
  {
   "cell_type": "code",
   "execution_count": null,
   "metadata": {},
   "outputs": [
    {
     "name": "stdout",
     "output_type": "stream",
     "text": [
      "[1, 4, 9, 16]\n"
     ]
    }
   ],
   "source": [
    "l = [1,2,3,4]\n",
    "sqr = [x**2 for x in l]\n",
    "print(sqr)"
   ]
  },
  {
   "cell_type": "code",
   "execution_count": null,
   "metadata": {},
   "outputs": [
    {
     "name": "stdout",
     "output_type": "stream",
     "text": [
      "[1, 9]\n"
     ]
    }
   ],
   "source": [
    "sqr_odd = [x**2 for x in l if x%2 != 0]\n",
    "print(sqr_odd)"
   ]
  },
  {
   "cell_type": "code",
   "execution_count": 48,
   "metadata": {},
   "outputs": [
    {
     "data": {
      "text/plain": [
       "[5, 6, 7, 5, 6, 7]"
      ]
     },
     "execution_count": 48,
     "metadata": {},
     "output_type": "execute_result"
    }
   ],
   "source": [
    "l2 = [5,6,7]\n",
    "2*l2"
   ]
  },
  {
   "cell_type": "code",
   "execution_count": 49,
   "metadata": {},
   "outputs": [
    {
     "data": {
      "text/plain": [
       "True"
      ]
     },
     "execution_count": 49,
     "metadata": {},
     "output_type": "execute_result"
    }
   ],
   "source": [
    "l1 = [3,1,2,1,0]\n",
    "l2 = [15,21,13]\n",
    "l2>=l1"
   ]
  },
  {
   "cell_type": "code",
   "execution_count": 52,
   "metadata": {},
   "outputs": [
    {
     "name": "stdout",
     "output_type": "stream",
     "text": [
      "1 2\n"
     ]
    }
   ],
   "source": [
    "l = [34,2,6,75,12,86]\n",
    "import random\n",
    "i = random.randint(1,len(l)-1)\n",
    "print(i,l[i])"
   ]
  },
  {
   "cell_type": "code",
   "execution_count": 53,
   "metadata": {},
   "outputs": [
    {
     "name": "stdout",
     "output_type": "stream",
     "text": [
      "[34, 2, 6, 75, 12, 86]\n",
      "[3, 1, 2, 1, 0]\n"
     ]
    },
    {
     "ename": "NameError",
     "evalue": "name 's' is not defined",
     "output_type": "error",
     "traceback": [
      "\u001b[1;31m---------------------------------------------------------------------------\u001b[0m",
      "\u001b[1;31mNameError\u001b[0m                                 Traceback (most recent call last)",
      "\u001b[1;32mc:\\Users\\HP\\Desktop\\APP\\APP Jupyter Notebok\\Lists.ipynb Cell 55'\u001b[0m in \u001b[0;36m<cell line: 3>\u001b[1;34m()\u001b[0m\n\u001b[0;32m      <a href='vscode-notebook-cell:/c%3A/Users/HP/Desktop/APP/APP%20Jupyter%20Notebok/Lists.ipynb#ch0000054?line=0'>1</a>\u001b[0m \u001b[39mprint\u001b[39m(l)\n\u001b[0;32m      <a href='vscode-notebook-cell:/c%3A/Users/HP/Desktop/APP/APP%20Jupyter%20Notebok/Lists.ipynb#ch0000054?line=1'>2</a>\u001b[0m \u001b[39mprint\u001b[39m(l1)\n\u001b[1;32m----> <a href='vscode-notebook-cell:/c%3A/Users/HP/Desktop/APP/APP%20Jupyter%20Notebok/Lists.ipynb#ch0000054?line=2'>3</a>\u001b[0m \u001b[39mprint\u001b[39m(s)\n",
      "\u001b[1;31mNameError\u001b[0m: name 's' is not defined"
     ]
    }
   ],
   "source": [
    "print(l)\n",
    "print(l1)\n",
    "print(s)"
   ]
  },
  {
   "cell_type": "code",
   "execution_count": 9,
   "metadata": {},
   "outputs": [
    {
     "name": "stdout",
     "output_type": "stream",
     "text": [
      "True\n"
     ]
    },
    {
     "ename": "NameError",
     "evalue": "name 'l1' is not defined",
     "output_type": "error",
     "traceback": [
      "\u001b[1;31m---------------------------------------------------------------------------\u001b[0m",
      "\u001b[1;31mNameError\u001b[0m                                 Traceback (most recent call last)",
      "\u001b[1;32mc:\\Users\\HP\\Desktop\\APP\\APP Jupyter Notebok\\Lists.ipynb Cell 56'\u001b[0m in \u001b[0;36m<cell line: 4>\u001b[1;34m()\u001b[0m\n\u001b[0;32m      <a href='vscode-notebook-cell:/c%3A/Users/HP/Desktop/APP/APP%20Jupyter%20Notebok/Lists.ipynb#ch0000055?line=0'>1</a>\u001b[0m \u001b[39mprint\u001b[39m (\u001b[39m2\u001b[39m \u001b[39min\u001b[39;00m l)\n\u001b[0;32m      <a href='vscode-notebook-cell:/c%3A/Users/HP/Desktop/APP/APP%20Jupyter%20Notebok/Lists.ipynb#ch0000055?line=1'>2</a>\u001b[0m \u001b[39m#print ('py'in s)\u001b[39;00m\n\u001b[0;32m      <a href='vscode-notebook-cell:/c%3A/Users/HP/Desktop/APP/APP%20Jupyter%20Notebok/Lists.ipynb#ch0000055?line=2'>3</a>\u001b[0m \u001b[39m#indexing sequence\u001b[39;00m\n\u001b[1;32m----> <a href='vscode-notebook-cell:/c%3A/Users/HP/Desktop/APP/APP%20Jupyter%20Notebok/Lists.ipynb#ch0000055?line=3'>4</a>\u001b[0m \u001b[39mprint\u001b[39m (l1[\u001b[39m1\u001b[39m],l1[\u001b[39m-\u001b[39m\u001b[39m1\u001b[39m],l1[\u001b[39m-\u001b[39m\u001b[39m2\u001b[39m])\n\u001b[0;32m      <a href='vscode-notebook-cell:/c%3A/Users/HP/Desktop/APP/APP%20Jupyter%20Notebok/Lists.ipynb#ch0000055?line=4'>5</a>\u001b[0m \u001b[39m#silicing\u001b[39;00m\n\u001b[0;32m      <a href='vscode-notebook-cell:/c%3A/Users/HP/Desktop/APP/APP%20Jupyter%20Notebok/Lists.ipynb#ch0000055?line=5'>6</a>\u001b[0m \u001b[39mprint\u001b[39m (s[\u001b[39m1\u001b[39m:\u001b[39m3\u001b[39m],l[:\u001b[39m2\u001b[39m],l[\u001b[39m1\u001b[39m:],l[:])\n",
      "\u001b[1;31mNameError\u001b[0m: name 'l1' is not defined"
     ]
    }
   ],
   "source": [
    "print (2 in l)\n",
    "#print ('py'in s)\n",
    "#indexing sequence\n",
    "print (l1[1],l1[-1],l1[-2])\n",
    "#silicing\n",
    "print (s[1:3],l[:2],l[1:],l[:])"
   ]
  },
  {
   "cell_type": "code",
   "execution_count": null,
   "metadata": {},
   "outputs": [],
   "source": []
  }
 ],
 "metadata": {
  "anaconda-cloud": {},
  "kernelspec": {
   "display_name": "Python 3",
   "language": "python",
   "name": "python3"
  },
  "language_info": {
   "codemirror_mode": {
    "name": "ipython",
    "version": 3
   },
   "file_extension": ".py",
   "mimetype": "text/x-python",
   "name": "python",
   "nbconvert_exporter": "python",
   "pygments_lexer": "ipython3",
   "version": "3.10.2"
  }
 },
 "nbformat": 4,
 "nbformat_minor": 1
}
