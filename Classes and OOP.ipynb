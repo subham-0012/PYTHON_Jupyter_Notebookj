{
 "cells": [
  {
   "cell_type": "markdown",
   "metadata": {},
   "source": [
    "# Simple Class Definition"
   ]
  },
  {
   "cell_type": "markdown",
   "metadata": {},
   "source": [
    "### Class Example 1 - Shape"
   ]
  },
  {
   "cell_type": "code",
   "execution_count": 1,
   "metadata": {},
   "outputs": [],
   "source": [
    "class Shape:\n",
    "    '''self is a reference to current instance of a class. This\n",
    "    line is a docstring explaining about the class'''\n",
    "    count = 0 #class level data member\n",
    "    def __init__(self,x,y):#run as soon as an object of a class is instantiated\n",
    "        self.s1 = x #Instance level data members\n",
    "        self.s2 = y\n",
    "        Shape.count+=1\n",
    "    def area(self):\n",
    "        return self.s1 * self.s2\n",
    "    def perimeter(self):\n",
    "        return 2 * self.s1 + 2 * self.s2\n",
    "    def scaleSize(self,scale):\n",
    "        self.s1= self.s1 * scale\n",
    "        self.s2 = self.s2 * scale"
   ]
  },
  {
   "cell_type": "markdown",
   "metadata": {},
   "source": [
    "### Object creation and methods call"
   ]
  },
  {
   "cell_type": "code",
   "execution_count": 3,
   "metadata": {
    "scrolled": true
   },
   "outputs": [
    {
     "name": "stdout",
     "output_type": "stream",
     "text": [
      "3618\n",
      "6\n",
      "6\n"
     ]
    }
   ],
   "source": [
    "rectangle = Shape(54,67)\n",
    "print(rectangle.area())\n",
    "sh1 = Shape(30,40) #Create object\n",
    "sh2 = Shape(80,80)\n",
    "print(rectangle.count)#Access class variable outside class\n",
    "print(sh2.__class__.count)#Access class variable outside class"
   ]
  },
  {
   "cell_type": "markdown",
   "metadata": {},
   "source": [
    "### Attributes - can be accessed using class name or instance name"
   ]
  },
  {
   "cell_type": "markdown",
   "metadata": {
    "collapsed": true
   },
   "source": [
    "The getattr(obj, name[, default]) − to access the attribute of object.\n",
    "\n",
    "The hasattr(obj,name) − to check if an attribute exists or not.\n",
    "\n",
    "The setattr(obj,name,value) − to set an attribute. If attribute does not exist, then it would be created.\n",
    "\n",
    "The delattr(obj, name) − to delete an attribute."
   ]
  },
  {
   "cell_type": "code",
   "execution_count": 4,
   "metadata": {},
   "outputs": [
    {
     "data": {
      "text/plain": [
       "30"
      ]
     },
     "execution_count": 4,
     "metadata": {},
     "output_type": "execute_result"
    }
   ],
   "source": [
    "getattr(sh1,\"s1\")"
   ]
  },
  {
   "cell_type": "code",
   "execution_count": 5,
   "metadata": {},
   "outputs": [
    {
     "data": {
      "text/plain": [
       "True"
      ]
     },
     "execution_count": 5,
     "metadata": {},
     "output_type": "execute_result"
    }
   ],
   "source": [
    "hasattr(sh1,\"s2\")"
   ]
  },
  {
   "cell_type": "code",
   "execution_count": null,
   "metadata": {},
   "outputs": [],
   "source": [
    "setattr(sh1,\"s1\",90)\n",
    "getattr(sh1,\"s1\")"
   ]
  },
  {
   "cell_type": "code",
   "execution_count": null,
   "metadata": {},
   "outputs": [],
   "source": [
    "hasattr(sh1,\"s2\")"
   ]
  },
  {
   "cell_type": "code",
   "execution_count": null,
   "metadata": {},
   "outputs": [],
   "source": [
    "delattr(sh1,\"s2\")\n",
    "hasattr(sh1,\"s2\")"
   ]
  },
  {
   "cell_type": "code",
   "execution_count": 6,
   "metadata": {},
   "outputs": [],
   "source": [
    "# Built-In Class Attributes\n",
    "# Every Python class keeps following built-in attributes and they can be accessed using dot operator like any other attribute −\n",
    "#     __dict__ − Dictionary containing the class's namespace.\n",
    "#     __doc__ − Class documentation string or none, if undefined.\n",
    "#     __name__ − Class name.\n",
    "#     __module__ − Module name in which the class is defined. This attribute is \"__main__\" in interactive mode.\n",
    "#     __bases__ − A possibly empty tuple containing the base classes, in the order of their occurrence in the base class list."
   ]
  },
  {
   "cell_type": "code",
   "execution_count": 5,
   "metadata": {
    "scrolled": true
   },
   "outputs": [
    {
     "name": "stdout",
     "output_type": "stream",
     "text": [
      "{'s1': 54, 's2': 67}\n",
      "Shape\n",
      "self is a reference to current instance of a class. This\n",
      "    line is a docstring explaining about the class\n",
      "__main__\n",
      "(<class 'object'>,)\n"
     ]
    }
   ],
   "source": [
    "#Built-in attributes\n",
    "print (rectangle.__dict__)# get a named list of attributes and values\n",
    "print (rectangle.__class__.__name__)# Get the class name from instance\n",
    "print (rectangle.__doc__)\n",
    "print (rectangle.__module__)\n",
    "print (rectangle.__class__.__bases__)"
   ]
  },
  {
   "cell_type": "markdown",
   "metadata": {},
   "source": [
    "### Class Example 2 - PlayerShip"
   ]
  },
  {
   "cell_type": "code",
   "execution_count": 8,
   "metadata": {},
   "outputs": [
    {
     "name": "stdout",
     "output_type": "stream",
     "text": [
      "[7, 8]\n",
      "[7, 17]\n"
     ]
    }
   ],
   "source": [
    "class PlayerShip:\n",
    "    def __init__(self,m,t,l):\n",
    "        x = int(input(\"Enter x position: \"))\n",
    "        y = int(input(\"Enter y position: \"))\n",
    "        self.pos = [x,y]\n",
    "        self.momentum = m\n",
    "        self.thrust = t\n",
    "        self.life = l\n",
    "    def move(self,direction,step):\n",
    "        if direction == \"UP\":\n",
    "            self.pos[1]+=step\n",
    "        elif direction == \"DOWN\":\n",
    "            self.pos[1]-=step\n",
    "        elif direction == \"LEFT\":\n",
    "            self.pos[0]-=step\n",
    "        elif direction == \"RIGHT\":\n",
    "            self.pos[0]+=step\n",
    "    def position(self):\n",
    "        print(self.pos)\n",
    "ps = PlayerShip(8.9,6.7,5)\n",
    "ps.position()\n",
    "ps.move(\"UP\",9)\n",
    "ps.position()"
   ]
  },
  {
   "cell_type": "markdown",
   "metadata": {
    "collapsed": true
   },
   "source": [
    "### Class Example 3 - Polygon"
   ]
  },
  {
   "cell_type": "code",
   "execution_count": 9,
   "metadata": {},
   "outputs": [],
   "source": [
    "#Parent class\n",
    "class Polygon:\n",
    "    def __init__(self, no_of_sides):\n",
    "        self.n = no_of_sides\n",
    "        #self.sides = [0 for i in range(no_of_sides)]\n",
    "\n",
    "    def inputSides(self):\n",
    "        #Creating an attribute here\n",
    "        self.sides = [float(input(\"Enter side \"+str(i+1)+\" : \")) for i in range(self.n)]\n",
    "\n",
    "    def dispSides(self):\n",
    "        for i in range(self.n):\n",
    "            print(\"Side\",i+1,\"is\",self.sides[i])\n",
    "    def findArea(self):\n",
    "        area = 1\n",
    "        for i in self.sides:\n",
    "            area *= i\n",
    "        print(area)"
   ]
  },
  {
   "cell_type": "code",
   "execution_count": 10,
   "metadata": {},
   "outputs": [
    {
     "name": "stdout",
     "output_type": "stream",
     "text": [
      "Side 1 is 5.0\n",
      "Side 2 is 4.0\n",
      "Side 3 is 1.0\n",
      "Side 4 is 1.0\n",
      "20.0\n"
     ]
    }
   ],
   "source": [
    "ply1 = Polygon(4)\n",
    "ply1.inputSides()\n",
    "ply1.dispSides()\n",
    "ply1.findArea()"
   ]
  },
  {
   "cell_type": "markdown",
   "metadata": {},
   "source": [
    "### Inheritance"
   ]
  },
  {
   "cell_type": "code",
   "execution_count": 11,
   "metadata": {},
   "outputs": [],
   "source": [
    "#Child class\n",
    "class Triangle(Polygon):\n",
    "    def __init__(self,t):\n",
    "        #Polygon.__init__(self,3)\n",
    "        super().__init__(3)#Call parent class initializer\n",
    "        self.typ=t#Child class specific\n",
    "\n",
    "    def findArea(self):#Method overriding\n",
    "        a, b, c = self.sides\n",
    "        # calculate the semi-perimeter\n",
    "        s = (a + b + c) / 2\n",
    "        area = (float)(s*(s-a)*(s-b)*(s-c)) ** 0.5\n",
    "        print('The area of the %s triangle is %0.2f' %(self.typ,area))"
   ]
  },
  {
   "cell_type": "code",
   "execution_count": 12,
   "metadata": {},
   "outputs": [
    {
     "name": "stdout",
     "output_type": "stream",
     "text": [
      "The area of the isoceles triangle is 7.81\n",
      "(<class '__main__.Polygon'>,)\n"
     ]
    }
   ],
   "source": [
    "t1 = Triangle(\"isoceles\")\n",
    "t1.inputSides() #Access parent methods\n",
    "t1.findArea()#Access its overridden method\n",
    "print (Triangle.__bases__)#Find the base class"
   ]
  },
  {
   "cell_type": "code",
   "execution_count": 13,
   "metadata": {
    "scrolled": true
   },
   "outputs": [
    {
     "name": "stdout",
     "output_type": "stream",
     "text": [
      "False\n",
      "True\n",
      "True\n"
     ]
    }
   ],
   "source": [
    "#Check membership\n",
    "print(issubclass(Polygon,Triangle))\n",
    "print(issubclass(Triangle,Polygon))\n",
    "print(isinstance(t1,Polygon))"
   ]
  },
  {
   "cell_type": "markdown",
   "metadata": {},
   "source": [
    "### Class Example 4 - ComplexNumber"
   ]
  },
  {
   "cell_type": "code",
   "execution_count": null,
   "metadata": {},
   "outputs": [],
   "source": [
    "class ComplexNumber:\n",
    "    def __init__(self,r,i):\n",
    "        self.real = r\n",
    "        self.imaginary = i\n",
    "    def display(self):\n",
    "        print(self.real,self.imaginary)"
   ]
  },
  {
   "cell_type": "code",
   "execution_count": null,
   "metadata": {},
   "outputs": [],
   "source": [
    "c1 = ComplexNumber(2,3)\n",
    "c1.display()\n",
    "c2 = ComplexNumber(4,5)\n",
    "c1+c2 #Error"
   ]
  },
  {
   "cell_type": "markdown",
   "metadata": {},
   "source": [
    "### Operator overloading"
   ]
  },
  {
   "cell_type": "code",
   "execution_count": null,
   "metadata": {},
   "outputs": [],
   "source": [
    "class ComplexNumber:\n",
    "    def __init__(self,r,i):\n",
    "        self.real = r\n",
    "        self.imaginary = i\n",
    "    def display(self):\n",
    "        print(self.real,self.imaginary)\n",
    "    def __add__(self,other):\n",
    "        print(self.real+other.real,self.imaginary+other.imaginary)\n",
    "    def __sub__(self,other):\n",
    "        print(self.real-other.real,self.imaginary-other.imaginary)\n",
    "cp1 = ComplexNumber(1,9)\n",
    "cp2 = ComplexNumber(2,80)\n",
    "cp1+cp2\n",
    "cp1-cp2\n"
   ]
  },
  {
   "cell_type": "code",
   "execution_count": 1,
   "metadata": {
    "scrolled": true
   },
   "outputs": [
    {
     "name": "stdout",
     "output_type": "stream",
     "text": [
      "11 13\n"
     ]
    }
   ],
   "source": [
    "\"\"\"This program demonstrates the operator overloading \"\"\"\n",
    "class Point:\n",
    "    def __init__(self,x,y):\n",
    "        self.x = x\n",
    "        self.y = y\n",
    "    def __add__(self,other):\n",
    "        new_x = self.x + other.x\n",
    "        new_y = self.y + other.y\n",
    "        p=Point(new_x,new_y)\n",
    "        return (p)\n",
    "p1 = Point(3,4)\n",
    "p2 = Point(8,9)\n",
    "p3 =p1+p2\n",
    "print(p3.x,p3.y)"
   ]
  },
  {
   "cell_type": "markdown",
   "metadata": {},
   "source": [
    "### Encapsulation"
   ]
  },
  {
   "cell_type": "code",
   "execution_count": null,
   "metadata": {},
   "outputs": [],
   "source": [
    "#Static method\n",
    "class Student:\n",
    "    def __init__(self,a,b):\n",
    "        self.reg_no=a\n",
    "        self.name=b\n",
    "    @staticmethod\n",
    "    def isQualified(credits,compl_sem):\n",
    "        if compl_sem>5 and credits>100:\n",
    "            return True\n",
    "        else:\n",
    "            return False\n",
    "st1 = Student('RA238203','simon')\n",
    "print(Student.isQualified(6,120))"
   ]
  },
  {
   "cell_type": "code",
   "execution_count": null,
   "metadata": {},
   "outputs": [],
   "source": []
  }
 ],
 "metadata": {
  "anaconda-cloud": {},
  "kernelspec": {
   "display_name": "Python 3",
   "language": "python",
   "name": "python3"
  },
  "language_info": {
   "codemirror_mode": {
    "name": "ipython",
    "version": 3
   },
   "file_extension": ".py",
   "mimetype": "text/x-python",
   "name": "python",
   "nbconvert_exporter": "python",
   "pygments_lexer": "ipython3",
   "version": "3.10.2"
  }
 },
 "nbformat": 4,
 "nbformat_minor": 1
}
