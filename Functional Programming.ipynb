{
 "cells": [
  {
   "cell_type": "markdown",
   "metadata": {},
   "source": [
    "### Functions and Lambda"
   ]
  },
  {
   "cell_type": "code",
   "execution_count": 2,
   "metadata": {},
   "outputs": [],
   "source": [
    "def square(x): return x*x#Simple function definition"
   ]
  },
  {
   "cell_type": "code",
   "execution_count": 3,
   "metadata": {},
   "outputs": [],
   "source": [
    "f = lambda x,y : 2 * x + y#Lambda expressions"
   ]
  },
  {
   "cell_type": "code",
   "execution_count": 4,
   "metadata": {},
   "outputs": [
    {
     "data": {
      "text/plain": [
       "<function __main__.<lambda>(x, y)>"
      ]
     },
     "execution_count": 4,
     "metadata": {},
     "output_type": "execute_result"
    }
   ],
   "source": [
    "f"
   ]
  },
  {
   "cell_type": "code",
   "execution_count": 5,
   "metadata": {},
   "outputs": [
    {
     "data": {
      "text/plain": [
       "10"
      ]
     },
     "execution_count": 5,
     "metadata": {},
     "output_type": "execute_result"
    }
   ],
   "source": [
    "f(3, 4)"
   ]
  },
  {
   "cell_type": "code",
   "execution_count": 6,
   "metadata": {},
   "outputs": [],
   "source": [
    "v = (lambda x: x*x)(100) #want to compute x*x with 100 as x"
   ]
  },
  {
   "cell_type": "code",
   "execution_count": 7,
   "metadata": {},
   "outputs": [
    {
     "data": {
      "text/plain": [
       "10000"
      ]
     },
     "execution_count": 7,
     "metadata": {},
     "output_type": "execute_result"
    }
   ],
   "source": [
    "v"
   ]
  },
  {
   "cell_type": "markdown",
   "metadata": {},
   "source": [
    "###  Higher Order Functions"
   ]
  },
  {
   "cell_type": "code",
   "execution_count": 8,
   "metadata": {},
   "outputs": [],
   "source": [
    "def applier(q, x): return q(x)#Takes function as an argument - HOF"
   ]
  },
  {
   "cell_type": "code",
   "execution_count": 9,
   "metadata": {},
   "outputs": [
    {
     "data": {
      "text/plain": [
       "49"
      ]
     },
     "execution_count": 9,
     "metadata": {},
     "output_type": "execute_result"
    }
   ],
   "source": [
    "applier(square, 7)"
   ]
  },
  {
   "cell_type": "code",
   "execution_count": 10,
   "metadata": {},
   "outputs": [
    {
     "data": {
      "text/plain": [
       "49"
      ]
     },
     "execution_count": 10,
     "metadata": {},
     "output_type": "execute_result"
    }
   ],
   "source": [
    "applier(lambda z: z ** 2, 7)"
   ]
  },
  {
   "cell_type": "code",
   "execution_count": 11,
   "metadata": {},
   "outputs": [],
   "source": [
    "#Composition\n",
    "def compose(f, g):#Both f and g are functions\n",
    "    return lambda x: f(g(x))#it also returns a function"
   ]
  },
  {
   "cell_type": "code",
   "execution_count": 12,
   "metadata": {},
   "outputs": [],
   "source": [
    "def double(x):\n",
    "    return x * 2\n",
    "\n",
    "def inc(x):\n",
    "    return x + 1"
   ]
  },
  {
   "cell_type": "code",
   "execution_count": 13,
   "metadata": {},
   "outputs": [
    {
     "data": {
      "text/plain": [
       "22"
      ]
     },
     "execution_count": 13,
     "metadata": {},
     "output_type": "execute_result"
    }
   ],
   "source": [
    "combine = compose(double,inc)\n",
    "combine(10)"
   ]
  },
  {
   "cell_type": "code",
   "execution_count": 14,
   "metadata": {},
   "outputs": [
    {
     "data": {
      "text/plain": [
       "21"
      ]
     },
     "execution_count": 14,
     "metadata": {},
     "output_type": "execute_result"
    }
   ],
   "source": [
    "combine1 = compose(inc,double)\n",
    "combine1(10)"
   ]
  },
  {
   "cell_type": "code",
   "execution_count": 15,
   "metadata": {},
   "outputs": [],
   "source": [
    "def twice(f):\n",
    "        return lambda x: f(f(x))#returns a function and not a value"
   ]
  },
  {
   "cell_type": "code",
   "execution_count": 16,
   "metadata": {},
   "outputs": [
    {
     "data": {
      "text/plain": [
       "<function __main__.twice(f)>"
      ]
     },
     "execution_count": 16,
     "metadata": {},
     "output_type": "execute_result"
    }
   ],
   "source": [
    "twice"
   ]
  },
  {
   "cell_type": "code",
   "execution_count": 17,
   "metadata": {},
   "outputs": [],
   "source": [
    "quad = twice(square)#Chaining\n",
    "#Result of one function is passed as argument to the other function"
   ]
  },
  {
   "cell_type": "code",
   "execution_count": 18,
   "metadata": {},
   "outputs": [
    {
     "data": {
      "text/plain": [
       "<function __main__.twice.<locals>.<lambda>(x)>"
      ]
     },
     "execution_count": 18,
     "metadata": {},
     "output_type": "execute_result"
    }
   ],
   "source": [
    "quad"
   ]
  },
  {
   "cell_type": "code",
   "execution_count": 19,
   "metadata": {},
   "outputs": [
    {
     "data": {
      "text/plain": [
       "625"
      ]
     },
     "execution_count": 19,
     "metadata": {},
     "output_type": "execute_result"
    }
   ],
   "source": [
    "quad(5)"
   ]
  },
  {
   "cell_type": "markdown",
   "metadata": {},
   "source": [
    "### Closures"
   ]
  },
  {
   "cell_type": "code",
   "execution_count": null,
   "metadata": {},
   "outputs": [],
   "source": [
    "#Closures - Special Nested Functions"
   ]
  },
  {
   "cell_type": "code",
   "execution_count": 20,
   "metadata": {},
   "outputs": [],
   "source": [
    "def counter1(start=0, step=1):\n",
    "    x = [start]#Local variable - #Need access to this local varoable outside the function\n",
    "    def _inc():#Nested function\n",
    "        x[0] += step\n",
    "        return x[0]\n",
    "    return _inc()#output of nested function - functions"
   ]
  },
  {
   "cell_type": "code",
   "execution_count": 22,
   "metadata": {},
   "outputs": [
    {
     "data": {
      "text/plain": [
       "110"
      ]
     },
     "execution_count": 22,
     "metadata": {},
     "output_type": "execute_result"
    }
   ],
   "source": [
    "counter1(100,10)"
   ]
  },
  {
   "cell_type": "code",
   "execution_count": 25,
   "metadata": {},
   "outputs": [],
   "source": [
    "def counter(start=0, step=1):\n",
    "    x = [start]\n",
    "    def _inc():#Condition 1 - Nested function is present\n",
    "        x[0] += step#Condition 2 - Nested function references enclosing scope\n",
    "        return x[0]\n",
    "    return _inc#Condition 3: Nested function is returned"
   ]
  },
  {
   "cell_type": "code",
   "execution_count": 26,
   "metadata": {},
   "outputs": [],
   "source": [
    "c = counter(100,10)"
   ]
  },
  {
   "cell_type": "code",
   "execution_count": 29,
   "metadata": {},
   "outputs": [
    {
     "data": {
      "text/plain": [
       "130"
      ]
     },
     "execution_count": 29,
     "metadata": {},
     "output_type": "execute_result"
    }
   ],
   "source": [
    "c()#Call this again and again to keep incrementing"
   ]
  },
  {
   "cell_type": "markdown",
   "metadata": {},
   "source": [
    "### Built in FP tools"
   ]
  },
  {
   "cell_type": "markdown",
   "metadata": {
    "collapsed": true
   },
   "source": [
    "Built-in HOF 1 - Map\n",
    "The map() function in python has the following syntax:\n",
    "\n",
    "map(func, *iterables)"
   ]
  },
  {
   "cell_type": "code",
   "execution_count": null,
   "metadata": {},
   "outputs": [],
   "source": [
    "#Example 1 - Convert a list of strings to upper case\n",
    "def convert(s):\n",
    "    return s.upper()\n",
    "strings = ['arlo', 'spot', 'nash', 'earl']#Map returns a map object - typecast to list\n",
    "lst = list(map(lambda x: x.upper(),strings))\n",
    "print(lst)"
   ]
  },
  {
   "cell_type": "code",
   "execution_count": null,
   "metadata": {},
   "outputs": [],
   "source": [
    "#Example 2 - Create a modulo 5 list of the input list\n",
    "nums = [0, 4, 7, 2, 1, 0 , 9 , 3, 5, 6, 8, 0, 3]\n",
    "nums = tuple(map(lambda x : x % 5, nums))\n",
    "print(nums)"
   ]
  },
  {
   "cell_type": "code",
   "execution_count": null,
   "metadata": {},
   "outputs": [],
   "source": [
    "#Example 3 - Dynamic rounding off - Map taking multiple iterables\n",
    "circle_areas = [3.56773, 5.57668, 4.00914, 56.24241, 9.01344, 32.00013]\n",
    "result = list(map(round, circle_areas, range(1,3)))\n",
    "print(result)"
   ]
  },
  {
   "cell_type": "code",
   "execution_count": 30,
   "metadata": {},
   "outputs": [
    {
     "name": "stdout",
     "output_type": "stream",
     "text": [
      "[('a', 1), ('b', 2), ('c', 3), ('d', 4), ('e', 5)]\n"
     ]
    }
   ],
   "source": [
    "#Example 4 - map version of the zip function\n",
    "my_strings = ['a', 'b', 'c', 'd', 'e']\n",
    "my_numbers = [1,2,3,4,5]\n",
    "#results = list(zip(my_strings, my_numbers))\n",
    "results = list(map(lambda x,y:(x,y),my_strings,my_numbers))\n",
    "print(results)\n",
    "\n",
    "#Do this with a map"
   ]
  },
  {
   "cell_type": "code",
   "execution_count": null,
   "metadata": {},
   "outputs": [],
   "source": [
    "#Example 5 - distances of each 3D point from the origin\n",
    "from math import sqrt\n",
    "points = [(2, 1, 3), (5, 7, -3), (2, 4, 0), (9, 6, 8)]\n",
    "def distance(point) :\n",
    "    x, y, z = point\n",
    "    return sqrt(x**2 + y**2 + z**2) \n",
    "distances = list(map(distance, points))\n",
    "print(distances)"
   ]
  },
  {
   "cell_type": "markdown",
   "metadata": {
    "collapsed": true
   },
   "source": [
    "Built-in HOF 2 - Filter\n",
    "Syntax: filter(func, iterable)\n",
    "only one iterable\n",
    "function should return a boolean type to enable filtering\n",
    "one iterable so it is implicit that function should take only one argument"
   ]
  },
  {
   "cell_type": "code",
   "execution_count": null,
   "metadata": {},
   "outputs": [],
   "source": [
    "#Example 1 - Filter exam score greater than 75\n",
    "scores = [66, 90, 68, 59, 76, 60, 88, 74, 81, 65]\n",
    "def is_A_student(score):\n",
    "    return score > 75\n",
    "over_75 = list(filter(is_A_student, scores))\n",
    "print(over_75)"
   ]
  },
  {
   "cell_type": "code",
   "execution_count": null,
   "metadata": {},
   "outputs": [],
   "source": [
    "#Example 2 - Filter non zero elements\n",
    "nums = [0, 4, 7, 2, 1, 0 , 9 , 3, 5, 6, 8, 0, 3]\n",
    "nums = list(filter(lambda x : x != 0, nums))#Removes all zeros from the list\n",
    "print(nums)      #[4, 7, 2, 1, 9, 3, 5, 6, 8, 3]"
   ]
  },
  {
   "cell_type": "code",
   "execution_count": null,
   "metadata": {},
   "outputs": [],
   "source": [
    "#Example 3 - Filter palindorme strings\n",
    "dromes = (\"demigod\", \"rewire\", \"madam\", \"freer\", \"anutforajaroftuna\", \"kiosk\")\n",
    "palindromes = list(filter(lambda word: word == word[::-1], dromes))\n",
    "print(palindromes)"
   ]
  },
  {
   "cell_type": "markdown",
   "metadata": {},
   "source": [
    "scores = [[\"NaN\", 12, .5, 78],[2, 13, .5, .7], \n",
    "          [2,\"NaN\", .5, 78],[2, 14, .5, 39]]\n",
    "given a list of lists containing answers to an algebra exam, filter out those that did not submit a response for one of the questions, denoted by NaNgiven a list of lists containing answers to an algebra exam, filter out those that did not submit a response for one of the questions, denoted by NaN"
   ]
  },
  {
   "cell_type": "code",
   "execution_count": null,
   "metadata": {},
   "outputs": [],
   "source": [
    "#Example 3 - NaN score filtering\n",
    "scores = [[\"NaN\", 12, .5, 78],[2, 13, .5, .7], \n",
    "          [2,\"NaN\", .5, 78],[2, 14, .5, 39]]\n",
    "\n",
    "def no_NaN(answers) :\n",
    "    for num in answers :\n",
    "        if str(num)==\"NaN\":\n",
    "            return False\n",
    "    return True\n",
    "valid = list(filter(no_NaN, scores))\n",
    "print(valid)"
   ]
  },
  {
   "cell_type": "markdown",
   "metadata": {},
   "source": [
    "Built-in HOF 3 - Reduce\n",
    "Syntax: reduce(func, iterable[, initial])\n",
    "1. function requires two arguments, the first of which is the first element in iterable (if initial is not supplied) and \n",
    "2. the second the second element in iterable. If initial is supplied, then it becomes the first argument to func and the first element in iterable becomes the second element. \n",
    "3. reduce \"reduces\" iterable into a single value."
   ]
  },
  {
   "cell_type": "code",
   "execution_count": null,
   "metadata": {},
   "outputs": [],
   "source": [
    "#Example 1 - Find the average of elements in a list\n",
    "from functools import reduce#Remember to import\n",
    "nums = [10,20,30,40,50]\n",
    "sm = reduce(lambda x, y : x + y, nums)\n",
    "print(sm)\n",
    "l = len(nums)\n",
    "avg = sm/l\n",
    "print(avg)"
   ]
  },
  {
   "cell_type": "code",
   "execution_count": null,
   "metadata": {},
   "outputs": [],
   "source": [
    "#Example 2 - Find the maximum of elements in a list\n",
    "nums = [10,20,30,40,50]\n",
    "mx = reduce(lambda i,j: i if i>j else j,nums)\n",
    "print(mx)"
   ]
  },
  {
   "cell_type": "code",
   "execution_count": 1,
   "metadata": {},
   "outputs": [
    {
     "name": "stdout",
     "output_type": "stream",
     "text": [
      "(((((((1, 2), 3), 4), 5), 6), 7), 8)\n"
     ]
    }
   ],
   "source": [
    "#Example - Find the output\n",
    "from functools import reduce\n",
    "nums = [1, 2, 3, 4, 5, 6, 7, 8]\n",
    "nums = (reduce(lambda x, y : (x, y), nums))\n",
    "print(nums)"
   ]
  },
  {
   "cell_type": "markdown",
   "metadata": {},
   "source": [
    "Map and reduce example\n",
    "Given a list of spam words, classify an email as spam if the words occur more than a specific number of times"
   ]
  },
  {
   "cell_type": "code",
   "execution_count": null,
   "metadata": {},
   "outputs": [],
   "source": [
    "email = 'this is this the python the for the class the'\n",
    "spam_words = ['the','this']"
   ]
  },
  {
   "cell_type": "code",
   "execution_count": null,
   "metadata": {},
   "outputs": [],
   "source": [
    "#Step 1 - Map the words to codes - 1 and 0\n",
    "words = email.split()\n",
    "mapped = list(map(lambda x:0 if x not in spam_words else 1,words))\n",
    "print(mapped)\n",
    "count = reduce(lambda x,y:x+y,mapped)\n",
    "print(count)\n",
    "if count>5:\n",
    "    print(\"SPAM\")\n",
    "else:\n",
    "    print(\"Not a SPAM\")"
   ]
  },
  {
   "cell_type": "code",
   "execution_count": null,
   "metadata": {},
   "outputs": [],
   "source": [
    "Lambda example 1\n",
    "How would you write a lambda function add_bangs that adds three exclamation points '!!!' \n",
    "to the end of a string a?\n",
    "How would you call add_bangs with the argument 'hello'?"
   ]
  },
  {
   "cell_type": "code",
   "execution_count": null,
   "metadata": {},
   "outputs": [],
   "source": [
    "Lambda example 2\n",
    "In this exercise, you will use what you know about lambda functions \n",
    "to convert a function that does a simple task into a lambda function.\n",
    "Take a look at this function definition:\n",
    "\n",
    "def echo_word(word1, echo):\n",
    "    \"\"\"Concatenate echo copies of word1.\"\"\"\n",
    "    words = word1 * echo\n",
    "    return words\n",
    "\n",
    "The function echo_word takes 2 parameters: \n",
    "    a string value, word1 and an integer value, echo. \n",
    "    It returns a string that is a concatenation of echo copies of word1. \n",
    "Your task is to convert this simple function into a lambda function."
   ]
  },
  {
   "cell_type": "code",
   "execution_count": null,
   "metadata": {},
   "outputs": [],
   "source": [
    "Map example 1\n",
    "Write a python program to find the fahrenheit of following temperatures recorded in the room using \n",
    "map function ,temp = (36.5, 37, 37.5,39)\n",
    "Farenhiet = 9/5*T + 32"
   ]
  },
  {
   "cell_type": "code",
   "execution_count": null,
   "metadata": {},
   "outputs": [],
   "source": [
    "Map example 2\n",
    "Write a program using map/ lambda to iterate and result the sum of 3 lists\n",
    "\n",
    "a = [1,2,3,4]\n",
    "b = [17,12,11,10]\n",
    "c = [-1,-4,5,9]"
   ]
  },
  {
   "cell_type": "code",
   "execution_count": null,
   "metadata": {},
   "outputs": [],
   "source": [
    "Filter example 1\n",
    "Filter even and odd numbers in two separate lists\n",
    "fib = [0,1,1,2,3,5,8,13,21,34,55]"
   ]
  },
  {
   "cell_type": "code",
   "execution_count": null,
   "metadata": {},
   "outputs": [],
   "source": [
    "Reduce example: Find sum of numbers from 500 to 5021\n"
   ]
  },
  {
   "cell_type": "markdown",
   "metadata": {
    "collapsed": true
   },
   "source": [
    "### Pure functions and immutability example"
   ]
  },
  {
   "cell_type": "code",
   "execution_count": null,
   "metadata": {},
   "outputs": [],
   "source": [
    "#Impure and mutable state version\n",
    "some_list = ['Selected Language']\n",
    "def foo(element):\n",
    "    some_list.append(element)\n",
    "foo('py')\n",
    "foo('java')#Adds to the updated list. \n",
    "#But desired behaviour - it should be added to the original list\n",
    "print(some_list)"
   ]
  },
  {
   "cell_type": "code",
   "execution_count": null,
   "metadata": {},
   "outputs": [],
   "source": [
    "#Pure and immutable state version\n",
    "def foo(element, lst):\n",
    "    return lst + [element]#New list is returned on concatenating\n",
    "\n",
    "some_list = ['Selected Language']\n",
    "now_list = foo('py', some_list)\n",
    "print(now_list,some_list)\n",
    "now_list = foo('java', some_list)\n",
    "print(now_list,some_list)"
   ]
  },
  {
   "cell_type": "markdown",
   "metadata": {},
   "source": [
    "### Recursion example"
   ]
  },
  {
   "cell_type": "code",
   "execution_count": null,
   "metadata": {},
   "outputs": [],
   "source": [
    "#Imperative Linear Search\n",
    "def imperative_linear_search(some_list,some_element):\n",
    "    for e in some_list:\n",
    "        if e == some_element:\n",
    "            return True\n",
    "    return False"
   ]
  },
  {
   "cell_type": "code",
   "execution_count": null,
   "metadata": {},
   "outputs": [],
   "source": [
    "#imperative_linear_search([34,56,12,21,78,67,12,32,41,45,53,56-90],-90)\n",
    "from random import randint\n",
    "mylist = [x for x in range(10000)] \n",
    "find = randint(0, len(mylist))\n",
    "print(find)\n",
    "imperative_linear_search(mylist,find)"
   ]
  },
  {
   "cell_type": "code",
   "execution_count": null,
   "metadata": {},
   "outputs": [],
   "source": [
    "#Simplest unoptimized tail recursion solution\n",
    "def recursive_linear_search(some_list,some_element):\n",
    "    if some_list == []:\n",
    "        return False\n",
    "    elif some_list[0]==some_element: #first element always exists at this point\n",
    "        return True\n",
    "    else:\n",
    "        return recursive_linear_search(some_list[1:], some_element)"
   ]
  },
  {
   "cell_type": "code",
   "execution_count": null,
   "metadata": {},
   "outputs": [],
   "source": [
    "#recursive_linear_search([34,56,12,21,78,67,12,32,41,45,53,56-90],-90)\n",
    "from random import randint\n",
    "mylist = [x for x in range(100)] \n",
    "find = randint(0, len(mylist))\n",
    "print(find)\n",
    "recursive_linear_search(mylist,find)"
   ]
  },
  {
   "cell_type": "markdown",
   "metadata": {},
   "source": [
    "### Non strict evaluation example"
   ]
  },
  {
   "cell_type": "code",
   "execution_count": 77,
   "metadata": {},
   "outputs": [
    {
     "data": {
      "text/plain": [
       "0"
      ]
     },
     "execution_count": 77,
     "metadata": {},
     "output_type": "execute_result"
    }
   ],
   "source": [
    "0 and print(\"right\")"
   ]
  },
  {
   "cell_type": "code",
   "execution_count": 78,
   "metadata": {},
   "outputs": [
    {
     "name": "stdout",
     "output_type": "stream",
     "text": [
      "right\n"
     ]
    }
   ],
   "source": [
    "True and print(\"right\")"
   ]
  },
  {
   "cell_type": "code",
   "execution_count": null,
   "metadata": {},
   "outputs": [],
   "source": [
    "A=2\n",
    "C=0\n",
    "def function():\n",
    "    if A==0:\n",
    "        return 0\n",
    "    elif C!=0:\n",
    "        return 0\n",
    "    elif A>4:\n",
    "        return 0\n",
    "    else:\n",
    "        return 'final'\n",
    "print(function())"
   ]
  },
  {
   "cell_type": "code",
   "execution_count": null,
   "metadata": {},
   "outputs": [],
   "source": [
    "A=2\n",
    "C=0\n",
    "def function():\n",
    "    if A==0 or C!=0 or A>4:\n",
    "        return 0\n",
    "    else:\n",
    "        return 'final'\n",
    "print(function())"
   ]
  },
  {
   "cell_type": "code",
   "execution_count": null,
   "metadata": {},
   "outputs": [],
   "source": [
    "#Written as expressions instead of statements in functional programming\n",
    "A=2\n",
    "C=0\n",
    "def function():\n",
    "    return (0 if A == 0 else\n",
    "            0 if C != 0 else\n",
    "            0 if A > 4 else 'final')\n",
    "print(function())"
   ]
  },
  {
   "cell_type": "code",
   "execution_count": null,
   "metadata": {},
   "outputs": [],
   "source": []
  }
 ],
 "metadata": {
  "anaconda-cloud": {},
  "interpreter": {
   "hash": "a9cff5a362bc38ef45d817ae74b1af54d6a076e3d773891282bce078b815ba34"
  },
  "kernelspec": {
   "display_name": "Python 3.10.2 64-bit",
   "language": "python",
   "name": "python3"
  },
  "language_info": {
   "codemirror_mode": {
    "name": "ipython",
    "version": 3
   },
   "file_extension": ".py",
   "mimetype": "text/x-python",
   "name": "python",
   "nbconvert_exporter": "python",
   "pygments_lexer": "ipython3",
   "version": "3.10.2"
  }
 },
 "nbformat": 4,
 "nbformat_minor": 1
}
