{
 "cells": [
  {
   "cell_type": "code",
   "execution_count": 2,
   "id": "6208076e",
   "metadata": {},
   "outputs": [],
   "source": [
    "# Average of 2 numbers to get grade\n",
    "# from tkinter import *\n",
    "# lbl1 = Label(None,text=\"Enter 1st grade\")\n",
    "# lbl2 = Label(None,text=\"Enter 2nd grade\")\n",
    "# Resultlbl = Label(None,text=\"Result\")\n",
    "# el1=Entry(None)\n",
    "# el2=Entry(None)\n",
    "# def result():\n",
    "#     num1=int(el1.get())\n",
    "#     num2=int(el2.get())\n",
    "#     num3=\"\"\n",
    "#     if int((num1+num2)/2)>90:\n",
    "#         num3=\"A\"\n",
    "#     else:\n",
    "#         num3=\"B\"\n",
    "#     Resultlbl.config(text=\"Result is \"+num3)\n",
    "#     Resultlbl.grid(row=5,column=2)\n",
    "# btn=Button(None,text=\"Get Result\",command=result)\n",
    "# lbl1.grid(row=2,column=2)\n",
    "# lbl2.grid(row=3,column=2)\n",
    "# el1.grid(row=2,column=3)\n",
    "# el2.grid(row=3,column=3)\n",
    "# btn.grid(row=4,column=2)\n",
    "# mainloop()"
   ]
  },
  {
   "cell_type": "code",
   "execution_count": 12,
   "id": "a70072e0",
   "metadata": {},
   "outputs": [],
   "source": [
    "# # import tkinter\n",
    "# from tkinter import *\n",
    "# root = Tk()\n",
    "# # width x height\n",
    "# root.geometry(\"644x434\")\n",
    "# # width, height\n",
    "# root.minsize(300,100)\n",
    "# root.maxsize(1200,988)\n",
    "# shakaib=Label(text=\"SUBHAM is a good boy and this his GUI\")\n",
    "# shakaib.pack()\n",
    "# root.mainloop()"
   ]
  },
  {
   "cell_type": "code",
   "execution_count": 21,
   "id": "97fbd662",
   "metadata": {},
   "outputs": [],
   "source": [
    "# from tkinter import *\n",
    "# from PIL import Image, ImageTk\n",
    "# root=Tk()\n",
    "# root.geometry(\"1255x944\")\n",
    "# # photo=PhotoImage(file=\"Blank-diagram.png\")\n",
    "# # for jpg images do below code\n",
    "# image=Image.open(\"sample-1.jpg\")\n",
    "# photo=ImageTk.PhotoImage(image)\n",
    "# varun_label=Label(image=photo)\n",
    "# varun_label.pack()\n",
    "# root.mainloop()"
   ]
  },
  {
   "cell_type": "code",
   "execution_count": 28,
   "id": "eb781415",
   "metadata": {},
   "outputs": [],
   "source": [
    "# from tkinter import *\n",
    "# root=Tk()\n",
    "# root.geometry(\"744x433\")\n",
    "# root.title(\"SUBHAM GUPTA\")\n",
    "\n",
    "# # text- adds the text\n",
    "# # bd-background\n",
    "# # fg-foreground\n",
    "# # font- sets the font 1st method. font=(\"comicsansms\",9,\"bold\") 2nd method. font=\"comicsansms 9 bold\"\n",
    "# # padx- padding in x\n",
    "# # pady-padding in y\n",
    "# # relief-border styling- SUNKEN, RAISED , GROOVE , RIDGE\n",
    "\n",
    "# title_label=Label(text=\"Lorem Ipsum is simply dummy text of the printing and typesetting industry. Lorem Ipsum has been the industry's standard dummy text ever since the 1500s, when an unknown printer took a galley of type and scrambled it to make a type specimen book. It has survived not only five centuries, but also the leap into electronic typesetting, remaining essentially unchanged. It was popularised in the 1960s with the release of Letraset sheets containing Lorem Ipsum passages, and more recently with desktop publishing software like Aldus PageMaker including versions of Lorem Ipsum.\",bg=\"red\",fg=\"white\",padx=23,pady=44,font=\"comicsansms 9 bold\",borderwidth=3,relief=SUNKEN)\n",
    "\n",
    "# # anchor=nw\n",
    "# # side=top,bottom,left,right\n",
    "# # fill\n",
    "# # padx\n",
    "# # pady\n",
    "# title_label.pack(side=BOTTOM,anchor=\"nw\",fill=X)\n",
    "# root.mainloop()"
   ]
  },
  {
   "cell_type": "code",
   "execution_count": null,
   "id": "4871233f",
   "metadata": {},
   "outputs": [],
   "source": [
    "# from tkinter import *\n",
    "# root=Tk()\n",
    "# root.geometry(\"655x333\")\n",
    "# f1=Frame(root,bg=\"grey\",borderwidth=6)\n",
    "# f1.pack(side=LEFT,fill=Y)\n",
    "# l=Label(f1,text=\"project Tkinter\")\n",
    "# l.pack()\n",
    "# root.mainloop()"
   ]
  }
 ],
 "metadata": {
  "kernelspec": {
   "display_name": "Python 3 (ipykernel)",
   "language": "python",
   "name": "python3"
  },
  "language_info": {
   "codemirror_mode": {
    "name": "ipython",
    "version": 3
   },
   "file_extension": ".py",
   "mimetype": "text/x-python",
   "name": "python",
   "nbconvert_exporter": "python",
   "pygments_lexer": "ipython3",
   "version": "3.10.2"
  }
 },
 "nbformat": 4,
 "nbformat_minor": 5
}
