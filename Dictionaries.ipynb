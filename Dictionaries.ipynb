{
 "cells": [
  {
   "cell_type": "markdown",
   "metadata": {},
   "source": [
    "### Create dictionaries"
   ]
  },
  {
   "cell_type": "code",
   "execution_count": 1,
   "metadata": {},
   "outputs": [
    {
     "name": "stdout",
     "output_type": "stream",
     "text": [
      "{}\n",
      "{'one': 1, 'two': 2, 'three': 3, 'four': 4}\n",
      "{'one': 1}\n"
     ]
    }
   ],
   "source": [
    "#Method 1 - Using curly braces\n",
    "d1={}#Empty dictionary\n",
    "d2={'one':1,'two':2,'three':3,'four':4}\n",
    "d3={'one':1}\n",
    "print (d1)\n",
    "print (d2)\n",
    "print (d3)"
   ]
  },
  {
   "cell_type": "code",
   "execution_count": 2,
   "metadata": {},
   "outputs": [
    {
     "name": "stdout",
     "output_type": "stream",
     "text": [
      "{'one': 1}\n",
      "{'a': 1, 'b': 2, 'c': 3}\n",
      "{1: 2, 4: 3}\n",
      "{'h': 2, 'e': 2, 'l': 2, 'o': 2}\n",
      "{1: None, 2: None, 3: None}\n",
      "{1: [9, 0, 9], 2: [9, 0, 9], 3: [9, 0, 9]}\n"
     ]
    }
   ],
   "source": [
    "#Method 2 - Using inbuilt dict method\n",
    "print (dict(one=1))\n",
    "D = dict(a=1, b=2, c=3)#Order not preserved\n",
    "print(D)\n",
    "print (dict([(1,2),[4,3]]))\n",
    "\n",
    "print (dict.fromkeys('hello', 2)) # same as {'h':2, 'e':2, 'l':2, 'o':2}\n",
    "print (dict.fromkeys([1, 2, 3],None)) # same as {1:None, 2:None, 3:None}\n",
    "print (dict.fromkeys([1, 2, 3],[9,0,9])) #same as {1: [9, 0, 9], 2: [9, 0, 9], 3: [9, 0, 9]}"
   ]
  },
  {
   "cell_type": "code",
   "execution_count": 3,
   "metadata": {},
   "outputs": [
    {
     "name": "stdout",
     "output_type": "stream",
     "text": [
      "New Dictionary dict 1: {'name': None, 'age': None, 'dept': None}\n",
      "New Dictionary dict 2: {'name': 10, 'age': 10, 'dept': 10}\n"
     ]
    }
   ],
   "source": [
    "#Method3 - From other sequences - tuple/list\n",
    "seq = ('name', 'age', 'dept')\n",
    "dict1 = dict.fromkeys(seq)\n",
    "print (\"New Dictionary dict 1: %s\" %  str(dict1))\n",
    "#seq2=(1,2,3)\n",
    "dict2 = dict.fromkeys(seq, 10)\n",
    "print (\"New Dictionary dict 2: %s\" %  str(dict2))"
   ]
  },
  {
   "cell_type": "code",
   "execution_count": 4,
   "metadata": {},
   "outputs": [
    {
     "name": "stdout",
     "output_type": "stream",
     "text": [
      "{1: 4, 2: 5, 3: 6}\n"
     ]
    }
   ],
   "source": [
    "#Method 4 - Create using zip method\n",
    "keyslist=[1,2,3]\n",
    "valslist=[4,5,6,7,8]\n",
    "D = dict(zip(keyslist, valslist))\n",
    "print(D)"
   ]
  },
  {
   "cell_type": "code",
   "execution_count": 5,
   "metadata": {},
   "outputs": [
    {
     "name": "stdout",
     "output_type": "stream",
     "text": [
      "[('a', 1), ('b', 2), ('c', 3)]\n",
      "{'a': 1, 'b': 2, 'c': 3}\n"
     ]
    }
   ],
   "source": [
    "#Method 4 - Create using zip method\n",
    "print (list(zip(['a', 'b', 'c'], [1, 2, 3])))  # Zip together keys and values as a list\n",
    "\n",
    "D = dict(zip(['a', 'b', 'c'], [1, 2, 3]))  # Make a dict from zip result\n",
    "print(D)"
   ]
  },
  {
   "cell_type": "code",
   "execution_count": 6,
   "metadata": {},
   "outputs": [
    {
     "name": "stdout",
     "output_type": "stream",
     "text": [
      "{'name': 'reshma'}\n"
     ]
    }
   ],
   "source": [
    "#Duplicate keys are not allowed\n",
    "a = {'name': 'sonu', 'name': 'reshma'}\n",
    "print(a)"
   ]
  },
  {
   "cell_type": "code",
   "execution_count": 7,
   "metadata": {},
   "outputs": [
    {
     "name": "stdout",
     "output_type": "stream",
     "text": [
      "{56: 'fifty six', 34: 'thirty four', 23: 'twenty three'}\n"
     ]
    }
   ],
   "source": [
    "d=dict(zip([56,34,23],('fifty six','thirty four','twenty three')))\n",
    "print(d)"
   ]
  },
  {
   "cell_type": "code",
   "execution_count": 8,
   "metadata": {},
   "outputs": [
    {
     "name": "stdout",
     "output_type": "stream",
     "text": [
      "{'a': 0, 'b': 0, 'c': 0}\n"
     ]
    }
   ],
   "source": [
    "d=dict.fromkeys(['a','b','c'],0)\n",
    "print(d)"
   ]
  },
  {
   "cell_type": "code",
   "execution_count": 10,
   "metadata": {},
   "outputs": [
    {
     "name": "stdout",
     "output_type": "stream",
     "text": [
      "{'4': '-999', '': '-999'}\n"
     ]
    }
   ],
   "source": [
    "d={}\n",
    "key=0\n",
    "while(key!='-999'):\n",
    "    key=input(\"Enter the key: \")\n",
    "    if(key!='-999'):\n",
    "        value=input(\"Enter the value: \")\n",
    "        d[key]=value\n",
    "print(d)"
   ]
  },
  {
   "cell_type": "code",
   "execution_count": 8,
   "metadata": {},
   "outputs": [
    {
     "name": "stdout",
     "output_type": "stream",
     "text": [
      "{'H': 1, 'e': 1, 'l': 2, 'o': 1}\n"
     ]
    }
   ],
   "source": [
    "newdict={}\n",
    "result=\"Hello\"\n",
    "for i in result:\n",
    "    if(newdict.get(i)==None):\n",
    "        newdict[i]=1\n",
    "    else:\n",
    "        newdict[i]+=1\n",
    "print(newdict)"
   ]
  },
  {
   "cell_type": "markdown",
   "metadata": {},
   "source": [
    "1. Given a list [56,34,23] and a tuple ('fifty six','thirty four','twenty three')\n",
    "Create the below dictionary\n",
    "{56:'fifty six',34:'thirty four',23:'twenty three'}\n",
    "\n",
    "2. Given a list ['a','b','c','d'], create the below dictionary\n",
    "{'a':0,'b':0,'c':0,'d':0}\n",
    "\n",
    "3. Write a loop to keep getting key and then value from the user till the user types -999 for key.Add the key value pairs to the dictionary and print the dictionary."
   ]
  },
  {
   "cell_type": "markdown",
   "metadata": {},
   "source": [
    "### Adding or rebinding elements"
   ]
  },
  {
   "cell_type": "code",
   "execution_count": 12,
   "metadata": {},
   "outputs": [
    {
     "name": "stdout",
     "output_type": "stream",
     "text": [
      "{}\n"
     ]
    }
   ],
   "source": [
    "d2={}\n",
    "print(d2)"
   ]
  },
  {
   "cell_type": "code",
   "execution_count": 13,
   "metadata": {},
   "outputs": [
    {
     "name": "stdout",
     "output_type": "stream",
     "text": [
      "{'five': 5, 'one': 'I', 'numbers': [1, 2, 3, 4, 5], 'roman': {1: 'I', 2: 'II', 3: 'III', 4: 'IV', 5: 'V'}}\n"
     ]
    }
   ],
   "source": [
    "d2['five']=5 #Adds a new key value pair\n",
    "d2['one']=\"I\"#Rebinding\n",
    "d2['numbers']=[1,2,3,4,5]#key is a string and value is a list\n",
    "d2['roman']={1:\"I\",2:\"II\",3:\"III\",4:\"IV\",5:\"V\"}#Nested dictionaries. Key is a string value is another dictionary\n",
    "#Check all the above changes\n",
    "print(d2)"
   ]
  },
  {
   "cell_type": "code",
   "execution_count": 14,
   "metadata": {},
   "outputs": [
    {
     "data": {
      "text/plain": [
       "2"
      ]
     },
     "execution_count": 14,
     "metadata": {},
     "output_type": "execute_result"
    }
   ],
   "source": [
    "d2['numbers'][1]"
   ]
  },
  {
   "cell_type": "markdown",
   "metadata": {},
   "source": [
    "### Accessing elements"
   ]
  },
  {
   "cell_type": "code",
   "execution_count": 15,
   "metadata": {},
   "outputs": [
    {
     "name": "stdout",
     "output_type": "stream",
     "text": [
      "{'five': 5, 'one': 'I', 'numbers': [1, 2, 3, 4, 5], 'roman': {1: 'I', 2: 'II', 3: 'III', 4: 'IV', 5: 'V'}}\n"
     ]
    },
    {
     "ename": "KeyError",
     "evalue": "'two'",
     "output_type": "error",
     "traceback": [
      "\u001b[1;31m---------------------------------------------------------------------------\u001b[0m",
      "\u001b[1;31mKeyError\u001b[0m                                  Traceback (most recent call last)",
      "\u001b[1;32mc:\\Users\\HP\\Desktop\\APP\\APP Jupyter Notebok\\Dictionaries.ipynb Cell 18'\u001b[0m in \u001b[0;36m<cell line: 3>\u001b[1;34m()\u001b[0m\n\u001b[0;32m      <a href='vscode-notebook-cell:/c%3A/Users/HP/Desktop/APP/APP%20Jupyter%20Notebok/Dictionaries.ipynb#ch0000017?line=0'>1</a>\u001b[0m \u001b[39m#Method 1 - Use square brackets - Get value by passing a key\u001b[39;00m\n\u001b[0;32m      <a href='vscode-notebook-cell:/c%3A/Users/HP/Desktop/APP/APP%20Jupyter%20Notebok/Dictionaries.ipynb#ch0000017?line=1'>2</a>\u001b[0m \u001b[39mprint\u001b[39m(d2)\n\u001b[1;32m----> <a href='vscode-notebook-cell:/c%3A/Users/HP/Desktop/APP/APP%20Jupyter%20Notebok/Dictionaries.ipynb#ch0000017?line=2'>3</a>\u001b[0m \u001b[39mprint\u001b[39m (d2[\u001b[39m'\u001b[39;49m\u001b[39mtwo\u001b[39;49m\u001b[39m'\u001b[39;49m])\n\u001b[0;32m      <a href='vscode-notebook-cell:/c%3A/Users/HP/Desktop/APP/APP%20Jupyter%20Notebok/Dictionaries.ipynb#ch0000017?line=3'>4</a>\u001b[0m \u001b[39mprint\u001b[39m(d2[\u001b[39m'\u001b[39m\u001b[39mhundred\u001b[39m\u001b[39m'\u001b[39m])\n",
      "\u001b[1;31mKeyError\u001b[0m: 'two'"
     ]
    }
   ],
   "source": [
    "#Method 1 - Use square brackets - Get value by passing a key\n",
    "print(d2)\n",
    "print (d2['two'])\n",
    "print(d2['hundred'])#throws an error if key not found and aborts program\n"
   ]
  },
  {
   "cell_type": "code",
   "execution_count": 13,
   "metadata": {},
   "outputs": [
    {
     "name": "stdout",
     "output_type": "stream",
     "text": [
      "not available\n",
      "None\n"
     ]
    }
   ],
   "source": [
    "#Method 2 - Use get method\n",
    "#Syntax :\n",
    "#Dict.get(key, default=None)\n",
    "print (d2.get('hundred','not available')) #Returns value if key available, else returns 'not available'\n",
    "print (d2.get('forty'))#Returns None if key not found"
   ]
  },
  {
   "cell_type": "code",
   "execution_count": 16,
   "metadata": {},
   "outputs": [
    {
     "name": "stdout",
     "output_type": "stream",
     "text": [
      "1\n"
     ]
    }
   ],
   "source": [
    "#Nested dictionaries\n",
    "F = {'food': {'ham': 1, 'egg': 2}}\n",
    "print(F['food']['ham'])"
   ]
  },
  {
   "cell_type": "code",
   "execution_count": 15,
   "metadata": {},
   "outputs": [
    {
     "name": "stdout",
     "output_type": "stream",
     "text": [
      "a\n",
      "c\n"
     ]
    }
   ],
   "source": [
    "# A tuple can also be a dictionary key\n",
    "dt = {(1, 1): 'a', (1, 2): 'b', (2, 1): 'c', (2, 2): 'd'}\n",
    "print(dt[(1,1)])\n",
    "print(dt[(2,1)])"
   ]
  },
  {
   "cell_type": "markdown",
   "metadata": {},
   "source": [
    "### Iterating a dictionary - keys(),values(),items()"
   ]
  },
  {
   "cell_type": "code",
   "execution_count": 21,
   "metadata": {},
   "outputs": [
    {
     "name": "stdout",
     "output_type": "stream",
     "text": [
      "foo\n",
      "bar\n",
      "baz\n",
      "1\n",
      "2\n",
      "3\n"
     ]
    }
   ],
   "source": [
    "#Method 1 - Simple iteration - only for loops\n",
    "d = {'foo': 1, 'bar': 2, 'baz': 3}\n",
    "#ITER TO PRINT KEY\n",
    "for k in d:#Returns keys by default\n",
    "    print(k)\n",
    "#ITER TO PRINT VALUE\n",
    "for k in d:\n",
    "    print(d[k])"
   ]
  },
  {
   "cell_type": "code",
   "execution_count": 22,
   "metadata": {},
   "outputs": [
    {
     "name": "stdout",
     "output_type": "stream",
     "text": [
      "dict_keys(['color', 'fruit', 'pet'])\n",
      "color\n",
      "fruit\n",
      "pet\n"
     ]
    }
   ],
   "source": [
    "#Method 2 - Itreate keys - d.keys()\n",
    "a_dict = {'color': 'blue', 'fruit': 'apple', 'pet': 'dog'}\n",
    "#for key in a_dict:#prints keys by default\n",
    "#    print(key)\n",
    "\n",
    "keys = a_dict.keys()\n",
    "print(keys)\n",
    "for key in keys:#dict.keys() Same as one above\n",
    "    print(key)"
   ]
  },
  {
   "cell_type": "code",
   "execution_count": 16,
   "metadata": {
    "scrolled": true
   },
   "outputs": [
    {
     "name": "stdout",
     "output_type": "stream",
     "text": [
      "dict_values(['blue', 'apple', 'dog'])\n",
      "<class 'dict_values'>\n",
      "blue\n",
      "apple\n",
      "dog\n"
     ]
    }
   ],
   "source": [
    "#Method 3 - Itreate values - d.values()\n",
    "a_dict = {'color': 'blue', 'fruit': 'apple', 'pet': 'dog'}\n",
    "values = a_dict.values()\n",
    "print(values)\n",
    "print(type(values))\n",
    "\n",
    "#iterate the above class content\n",
    "for value in a_dict.values():\n",
    "    print(value)"
   ]
  },
  {
   "cell_type": "code",
   "execution_count": 17,
   "metadata": {},
   "outputs": [
    {
     "name": "stdout",
     "output_type": "stream",
     "text": [
      "dict_items([('color', 'blue'), ('fruit', 'apple'), ('pet', 'dog')])\n",
      "('color', 'blue')\n",
      "('fruit', 'apple')\n",
      "('pet', 'dog')\n"
     ]
    }
   ],
   "source": [
    "#Method 4 - Itreate values - d.items()\n",
    "a_dict = {'color': 'blue', 'fruit': 'apple', 'pet': 'dog'}\n",
    "d_items = a_dict.items()\n",
    "print(d_items)  # Here d_items is a view of items\n",
    "for item in a_dict.items():\n",
    "    print(item)"
   ]
  },
  {
   "cell_type": "markdown",
   "metadata": {},
   "source": [
    "### Few applications of traversing"
   ]
  },
  {
   "cell_type": "code",
   "execution_count": 18,
   "metadata": {},
   "outputs": [
    {
     "data": {
      "text/plain": [
       "{'apple': 0.36, 'orange': 0.32, 'banana': 0.23}"
      ]
     },
     "execution_count": 18,
     "metadata": {},
     "output_type": "execute_result"
    }
   ],
   "source": [
    "#updating the values\n",
    "prices = {'apple': 0.40, 'orange': 0.35, 'banana': 0.25}\n",
    "for (k, v) in prices.items():\n",
    "    prices[k] = round(v * 0.9, 2)  # Apply a 10% discount\n",
    "\n",
    "prices"
   ]
  },
  {
   "cell_type": "code",
   "execution_count": null,
   "metadata": {},
   "outputs": [],
   "source": [
    "#the keys can be added or removed from a dictionary by converting the view returned by .keys() into a list object:\n",
    "\n",
    "prices = {'apple': 0.40, 'orange': 0.35, 'banana': 0.25}\n",
    "for key in list(prices.keys()):  # Use a list instead of a view\n",
    "    if key == 'orange':\n",
    "        del prices[key]  # Delete a key from prices\n",
    "\n",
    "prices"
   ]
  },
  {
   "cell_type": "code",
   "execution_count": null,
   "metadata": {},
   "outputs": [],
   "source": [
    "#Turning keys to values -- vice versa\n",
    "a_dict = {'one': 1, 'two': 2, 'thee': 3, 'four': 4}\n",
    "new_dict = {}\n",
    "for key, value in a_dict.items():\n",
    "    new_dict[value] = key\n",
    "\n",
    "new_dict\n"
   ]
  },
  {
   "cell_type": "code",
   "execution_count": 23,
   "metadata": {},
   "outputs": [
    {
     "name": "stdout",
     "output_type": "stream",
     "text": [
      "3500.0\n",
      "5000.0\n",
      "5600.0\n",
      "orange -> 3500.0\n",
      "banana -> 5000.0\n",
      "apple -> 5600.0\n",
      "orange -> 3500.0\n",
      "banana -> 5000.0\n",
      "apple -> 5600.0\n"
     ]
    }
   ],
   "source": [
    "incomes = {'apple': 5600.00, 'orange': 3500.00, 'banana': 5000.00}\n",
    "\n",
    "#print values in sorted order\n",
    "for value in sorted(incomes.values()):\n",
    "    print(value)\n",
    "\n",
    "#Print key value pairs in sorted order of keys\n",
    "for key in sorted(incomes, reverse=True):\n",
    "    print(key, '->', incomes[key])\n",
    "\n",
    "#Advanced - print key value pairs sorted according to values\n",
    "def by_value(item):\n",
    "    return item[1]\n",
    "\n",
    "for k, v in sorted(incomes.items(), key=by_value):\n",
    "    print(k, '->', v)"
   ]
  },
  {
   "cell_type": "code",
   "execution_count": null,
   "metadata": {},
   "outputs": [],
   "source": [
    "#Summary - Get keys, values or key value pairs for traversing\n",
    "print('six' in d2)\n",
    "print (d2.items())\n",
    "print (d2.keys())\n",
    "print (d2.values())\n",
    "print (d2)"
   ]
  },
  {
   "cell_type": "markdown",
   "metadata": {},
   "source": [
    "4. Given a dictionary of building names and number of floors - {'Burj Khalifa':163,'Shanghai Tower':128,'Goldin Finance 117':128,'Lotte World Tower':123,'One World Trade Center':104}\n",
    "Basic: Write a program that prints the building name--> floor in sorted roder of bulding names\n",
    "Advanced: Write a program that prints the building name--> floor in descending order of number of floors"
   ]
  },
  {
   "cell_type": "markdown",
   "metadata": {},
   "source": [
    "### Dictionary operations - copy, update, pop, popitem, clear, setdefault"
   ]
  },
  {
   "cell_type": "code",
   "execution_count": null,
   "metadata": {},
   "outputs": [],
   "source": [
    "# Pre Defined Function\n",
    "\n",
    "# copy() \tCopy the entire dictionary to new dictionary \tdict.copy()\n",
    "# update() \tUpdate a dictionary by adding a new entry or a key-value pair to an\n",
    "# existing entry or by deleting an existing entry. \tDict.update([other])\n",
    "# items() \tReturns a list of tuple pairs (Keys, Value) in the dictionary. \tdictionary.items()\n",
    "# len() \tGives the number of pairs in the dictionary. \tlen(dict)\n",
    "# Str() \tMake a dictionary into a printable string format \tStr(dict)\n"
   ]
  },
  {
   "cell_type": "code",
   "execution_count": 17,
   "metadata": {},
   "outputs": [
    {
     "name": "stdout",
     "output_type": "stream",
     "text": [
      "{'a': 1, 'b': 2, 'c': 3}\n",
      "{'a': 1, 'b': 2, 'c': 90, 'IFFF': 1}\n"
     ]
    }
   ],
   "source": [
    "#Dictionary operations - copy, update, pop, popitem, clear, setdefault\n",
    "D = dict(zip(['a', 'b', 'c'], [1, 2, 3]))  # Make a dict from zip result\n",
    "print(D.copy())#Returns a new copy of the dictionary\n",
    "D2={'IFFF':1,'c':90}\n",
    "D.update(D2)#Similar to concatenate-Add elements of one dictionary to another\n",
    "print(D) #Rebinds value from second dictionary in first if key exists in both\n"
   ]
  },
  {
   "cell_type": "code",
   "execution_count": null,
   "metadata": {
    "scrolled": true
   },
   "outputs": [],
   "source": [
    "print(D.pop('a'))#Remove elements by key - Returns value of element removed\n",
    "print(D)\n",
    "\n",
    "print(D.popitem())#Removes arbitrary item - Returns key value pair\n",
    "print(D)"
   ]
  },
  {
   "cell_type": "code",
   "execution_count": null,
   "metadata": {},
   "outputs": [],
   "source": [
    "print(D.clear())\n",
    "print(D)"
   ]
  },
  {
   "cell_type": "markdown",
   "metadata": {},
   "source": [
    "### Dictionary Comprehension"
   ]
  },
  {
   "cell_type": "code",
   "execution_count": 39,
   "metadata": {},
   "outputs": [
    {
     "name": "stdout",
     "output_type": "stream",
     "text": [
      "{'1': 1, '2': 2, '3': 3, '4': 4, '5': 5}\n"
     ]
    }
   ],
   "source": [
    "l = [1,2,3,4,5]\n",
    "d1 = {str(i):i for i in l}#generate key value pairs for every element in the list/sequence\n",
    "print(d1)"
   ]
  },
  {
   "cell_type": "code",
   "execution_count": 35,
   "metadata": {},
   "outputs": [
    {
     "name": "stdout",
     "output_type": "stream",
     "text": [
      "{'red': 3, 'orange': 6, 'blue': 4, 'violet': 6}\n"
     ]
    }
   ],
   "source": [
    "l = ['red','orange','blue','violet']\n",
    "d2 = {i:len(i) for i in l}\n",
    "print(d2)"
   ]
  },
  {
   "cell_type": "code",
   "execution_count": 36,
   "metadata": {},
   "outputs": [
    {
     "name": "stdout",
     "output_type": "stream",
     "text": [
      "[(9, 'one'), (10, 'two'), (11, 'three')]\n"
     ]
    }
   ],
   "source": [
    "#Create a dictionary from enumerating a list using comrpehension\n",
    "l = ['one','two','three']\n",
    "en = list(enumerate(l,start=9))\n",
    "print(en)"
   ]
  },
  {
   "cell_type": "code",
   "execution_count": 37,
   "metadata": {},
   "outputs": [
    {
     "name": "stdout",
     "output_type": "stream",
     "text": [
      "{6: 'one', 7: 'two', 8: 'three'}\n"
     ]
    }
   ],
   "source": [
    "d3 = {i:j for i,j in enumerate(l,start=6)}\n",
    "print(d3)"
   ]
  },
  {
   "cell_type": "code",
   "execution_count": 38,
   "metadata": {},
   "outputs": [
    {
     "name": "stdout",
     "output_type": "stream",
     "text": [
      "{8900: 1, 9000: 2, 8190: 3}\n"
     ]
    }
   ],
   "source": [
    "d4 = {1:8900,2:9000,3:8190}\n",
    "d5 = {v:k for k,v in d4.items()}\n",
    "print(d5)"
   ]
  },
  {
   "cell_type": "markdown",
   "metadata": {},
   "source": [
    "5. Generate a Dictionary that Contains Numbers (between 1 and n) in the Form (x,x*x). \n",
    "6. Write an program takes a larger string and create a dictionary with key as first character of words , value as list of words starting with that character\n",
    "\n",
    "Example input and output:\n",
    "Input String: \"she made a soup with More cream And Sauce\"\n",
    "Expected Output Dictionary: {'w': ['with'], 'a': ['a', 'And'], 'c': ['cream'], 'm': ['made', 'More'], 's': ['she', 'soup', 'Sauce']}\n",
    "    \n",
    "Steps By Step Instruction to write a program :\n",
    "    \n",
    "1. User must get the string  and store it in a variable 'inp'.\n",
    "2. An empty dictionary is declared ,'d={}'.\n",
    "3. The string is split into words and is stored in a list,'Using Split()'.\n",
    "4. A for loop is used to traverse through the words in the list.\n",
    "         An if statement is used to check if the word's first character is already present as a key.\n",
    "6. If it is not present, the letter of the word is initialized as the key and a list with the word as value is inserted into the dictionary.\n",
    "7. If it is present, the word is added to the value/list corresponding.\n",
    "8. The final dictionary is printed."
   ]
  }
 ],
 "metadata": {
  "anaconda-cloud": {},
  "kernelspec": {
   "display_name": "Python 3",
   "language": "python",
   "name": "python3"
  },
  "language_info": {
   "codemirror_mode": {
    "name": "ipython",
    "version": 3
   },
   "file_extension": ".py",
   "mimetype": "text/x-python",
   "name": "python",
   "nbconvert_exporter": "python",
   "pygments_lexer": "ipython3",
   "version": "3.10.2"
  }
 },
 "nbformat": 4,
 "nbformat_minor": 1
}
