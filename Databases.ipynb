{
 "cells": [
  {
   "cell_type": "markdown",
   "metadata": {},
   "source": [
    "### Create tables"
   ]
  },
  {
   "cell_type": "code",
   "execution_count": 1,
   "metadata": {},
   "outputs": [],
   "source": [
    "import sqlite3 #sqlite3 is a built-in data base in Python 3"
   ]
  },
  {
   "cell_type": "code",
   "execution_count": 2,
   "metadata": {},
   "outputs": [],
   "source": [
    "#Connects to a local db file if existing where our databases are stored. Else creates a new file\n",
    "conn = sqlite3.connect('dbtest3') #Also accepts special string :memory to create a temporary data base"
   ]
  },
  {
   "cell_type": "code",
   "execution_count": 3,
   "metadata": {},
   "outputs": [],
   "source": [
    "curs = conn.cursor()#a cursor for submitting SQL statements to the database server"
   ]
  },
  {
   "cell_type": "code",
   "execution_count": 6,
   "metadata": {},
   "outputs": [],
   "source": [
    "#SQl stattement to create table\n",
    "tblcmd = 'create table stud (name varchar(30), review varchar(10), \\\n",
    "Status varchar(10))'"
   ]
  },
  {
   "cell_type": "code",
   "execution_count": 7,
   "metadata": {},
   "outputs": [
    {
     "ename": "OperationalError",
     "evalue": "table stud already exists",
     "output_type": "error",
     "traceback": [
      "\u001b[1;31m---------------------------------------------------------------------------\u001b[0m",
      "\u001b[1;31mOperationalError\u001b[0m                          Traceback (most recent call last)",
      "\u001b[1;32m<ipython-input-7-900d7298d460>\u001b[0m in \u001b[0;36m<module>\u001b[1;34m\u001b[0m\n\u001b[1;32m----> 1\u001b[1;33m \u001b[0mcurs\u001b[0m\u001b[1;33m.\u001b[0m\u001b[0mexecute\u001b[0m\u001b[1;33m(\u001b[0m\u001b[0mtblcmd\u001b[0m\u001b[1;33m)\u001b[0m \u001b[1;31m#Use the cursor to execute the SQL statement\u001b[0m\u001b[1;33m\u001b[0m\u001b[1;33m\u001b[0m\u001b[0m\n\u001b[0m",
      "\u001b[1;31mOperationalError\u001b[0m: table stud already exists"
     ]
    }
   ],
   "source": [
    "curs.execute(tblcmd) #Use the cursor to execute the SQL statement"
   ]
  },
  {
   "cell_type": "markdown",
   "metadata": {},
   "source": [
    "### Insert statements"
   ]
  },
  {
   "cell_type": "code",
   "execution_count": null,
   "metadata": {},
   "outputs": [],
   "source": [
    "#Basic Inserts"
   ]
  },
  {
   "cell_type": "code",
   "execution_count": 8,
   "metadata": {},
   "outputs": [
    {
     "data": {
      "text/plain": [
       "<sqlite3.Cursor at 0x200e556bb20>"
      ]
     },
     "execution_count": 8,
     "metadata": {},
     "output_type": "execute_result"
    }
   ],
   "source": [
    "curs.execute('insert into stud values(\"Bob\", \"yes\", \"accepted\")')"
   ]
  },
  {
   "cell_type": "code",
   "execution_count": 9,
   "metadata": {},
   "outputs": [
    {
     "data": {
      "text/plain": [
       "1"
      ]
     },
     "execution_count": 9,
     "metadata": {},
     "output_type": "execute_result"
    }
   ],
   "source": [
    "curs.rowcount #Gives the number of rows produced or affected by the last statement"
   ]
  },
  {
   "cell_type": "code",
   "execution_count": 10,
   "metadata": {},
   "outputs": [],
   "source": [
    "conn.commit() \n",
    "#Always call commit to write our changes to database. \n",
    "#Else when the connecton is closed, data may be lost"
   ]
  },
  {
   "cell_type": "code",
   "execution_count": null,
   "metadata": {},
   "outputs": [],
   "source": [
    "# Parameterized inserts"
   ]
  },
  {
   "cell_type": "code",
   "execution_count": 11,
   "metadata": {},
   "outputs": [],
   "source": [
    "l = ['Sonu','no','accepted']\n",
    "curs.execute('insert into stud values(?,?,?)',l)\n",
    "#Parameterized queries where parameters are substituted in order \n",
    "#Parameters are generally passed in as a sequence - list or a tuple\n",
    "conn.commit()"
   ]
  },
  {
   "cell_type": "code",
   "execution_count": 12,
   "metadata": {},
   "outputs": [
    {
     "data": {
      "text/plain": [
       "'qmark'"
      ]
     },
     "execution_count": 12,
     "metadata": {},
     "output_type": "execute_result"
    }
   ],
   "source": [
    "sqlite3.paramstyle\n",
    "#Tells us what style the db used for substitution targets"
   ]
  },
  {
   "cell_type": "code",
   "execution_count": 13,
   "metadata": {},
   "outputs": [],
   "source": [
    "# Multiple row inserts with loops\n",
    "rows = [['Rama','yes','rejected'],['Geetha','no','rejected'],['Ria','no','rejected']]\n",
    "\n",
    "for row in rows:\n",
    "    curs.execute('insert into stud values(?,?,?)',row)"
   ]
  },
  {
   "cell_type": "code",
   "execution_count": 14,
   "metadata": {},
   "outputs": [
    {
     "data": {
      "text/plain": [
       "<sqlite3.Cursor at 0x200e556bb20>"
      ]
     },
     "execution_count": 14,
     "metadata": {},
     "output_type": "execute_result"
    }
   ],
   "source": [
    "# Multiple row inserts with single statement\n",
    "inp = [['Bala','yes','rejected'],['Lia','no','rejected'],\\\n",
    "       ['Perin','no','rejected']]\n",
    "curs.executemany('insert into stud values(?,?,?)',inp)"
   ]
  },
  {
   "cell_type": "code",
   "execution_count": 15,
   "metadata": {},
   "outputs": [],
   "source": [
    "conn.commit()"
   ]
  },
  {
   "cell_type": "markdown",
   "metadata": {},
   "source": [
    "### Select queries"
   ]
  },
  {
   "cell_type": "code",
   "execution_count": 16,
   "metadata": {},
   "outputs": [
    {
     "name": "stdout",
     "output_type": "stream",
     "text": [
      "<sqlite3.Cursor object at 0x00000200E556BB20>\n",
      "('Bob', 'yes', 'accepted')\n",
      "('Sonu', 'no', 'accepted')\n",
      "('Rama', 'yes', 'rejected')\n",
      "('Geetha', 'no', 'rejected')\n",
      "('Ria', 'no', 'rejected')\n",
      "('Bala', 'yes', 'rejected')\n",
      "('Lia', 'no', 'rejected')\n",
      "('Perin', 'no', 'rejected')\n"
     ]
    }
   ],
   "source": [
    "#fetchall\n",
    "a = curs.execute('select * from stud')\n",
    "print(a)\n",
    "for r in a:#Direct iteratethe cursor and print\n",
    "    print(r)\n"
   ]
  },
  {
   "cell_type": "code",
   "execution_count": 17,
   "metadata": {},
   "outputs": [
    {
     "name": "stdout",
     "output_type": "stream",
     "text": [
      "('Bob', 'yes', 'accepted')\n",
      "('Sonu', 'no', 'accepted')\n",
      "('Rama', 'yes', 'rejected')\n",
      "('Geetha', 'no', 'rejected')\n",
      "('Ria', 'no', 'rejected')\n",
      "('Bala', 'yes', 'rejected')\n",
      "('Lia', 'no', 'rejected')\n",
      "('Perin', 'no', 'rejected')\n"
     ]
    }
   ],
   "source": [
    "curs.execute('select * from stud')\n",
    "for row in curs.fetchall():\n",
    "    print(row)"
   ]
  },
  {
   "cell_type": "code",
   "execution_count": 18,
   "metadata": {},
   "outputs": [
    {
     "data": {
      "text/plain": [
       "['Bob', 'Sonu', 'Rama', 'Geetha', 'Ria', 'Bala', 'Lia', 'Perin']"
      ]
     },
     "execution_count": 18,
     "metadata": {},
     "output_type": "execute_result"
    }
   ],
   "source": [
    "curs.execute('select * from stud')\n",
    "names = [rec[0] for rec in curs.fetchall()]\n",
    "names"
   ]
  },
  {
   "cell_type": "code",
   "execution_count": 19,
   "metadata": {},
   "outputs": [
    {
     "name": "stdout",
     "output_type": "stream",
     "text": [
      "Bob : accepted\n",
      "Sonu : accepted\n",
      "Rama : rejected\n",
      "Geetha : rejected\n",
      "Ria : rejected\n",
      "Bala : rejected\n",
      "Lia : rejected\n",
      "Perin : rejected\n"
     ]
    }
   ],
   "source": [
    "curs.execute('select * from stud')\n",
    "for (name,review,Status) in curs.fetchall():\n",
    "    print (name,':',Status)"
   ]
  },
  {
   "cell_type": "code",
   "execution_count": 20,
   "metadata": {},
   "outputs": [
    {
     "data": {
      "text/plain": [
       "('Bob', 'yes', 'accepted')"
      ]
     },
     "execution_count": 20,
     "metadata": {},
     "output_type": "execute_result"
    }
   ],
   "source": [
    "#fetchone will fetch one row\n",
    "curs.execute('select * from stud')\n",
    "curs.fetchone()"
   ]
  },
  {
   "cell_type": "code",
   "execution_count": 21,
   "metadata": {},
   "outputs": [
    {
     "data": {
      "text/plain": [
       "[('Bob', 'yes', 'accepted'), ('Sonu', 'no', 'accepted')]"
      ]
     },
     "execution_count": 21,
     "metadata": {},
     "output_type": "execute_result"
    }
   ],
   "source": [
    "#fetchmany returns a sequence of rows from the result, but not the entire table/result\n",
    "curs.execute('select * from stud')\n",
    "curs.fetchmany(2)"
   ]
  },
  {
   "cell_type": "code",
   "execution_count": null,
   "metadata": {},
   "outputs": [],
   "source": [
    "conn.close()"
   ]
  },
  {
   "cell_type": "markdown",
   "metadata": {},
   "source": [
    "### Another example "
   ]
  },
  {
   "cell_type": "markdown",
   "metadata": {},
   "source": [
    "Using sqlite3, \n",
    "Create a Product table and OrderItem table with the following fields \n",
    "\n",
    "Product(Prod_id, Prod_name, Unit_price)\n",
    "OrderItem(Order_id,Prod_id,Quantity)\n",
    "Note:\n",
    "The Product_ID field in the OrderItem table is a foreign key to the Product table's OrderID column.\n",
    "Hint: SQL query to create OrderItem table would look like \n",
    "\"create table OrderItem (Order_ID int(4),Quantity int(4), Prod_id int(4), \\\n",
    "FOREIGN KEY(Prod_id) REFERENCES product(Prod_id))\""
   ]
  },
  {
   "cell_type": "code",
   "execution_count": 23,
   "metadata": {},
   "outputs": [],
   "source": [
    "import sqlite3\n",
    "conn = sqlite3.connect('products')\n",
    "#conn.execute(\"PRAGMA foreign_keys = 1\")\n",
    "curs = conn.cursor()\n",
    "\n",
    "cmnd = \"create table product (Prod_id int(4) PRIMARY KEY, Prod_name char(20) \\\n",
    ", Unit_price real)\"\n",
    "curs.execute(cmnd)\n",
    "\n",
    "curs.executemany('insert into product values (?,?,?)',\\\n",
    "[(34,\"Towel\", 200),(67,\"Lunch Box\", 300),(56,\"Paper Folder\",45.50)])\n",
    "\n",
    "conn.commit()"
   ]
  },
  {
   "cell_type": "code",
   "execution_count": 24,
   "metadata": {},
   "outputs": [
    {
     "data": {
      "text/plain": [
       "<sqlite3.Cursor at 0x200e564ddc0>"
      ]
     },
     "execution_count": 24,
     "metadata": {},
     "output_type": "execute_result"
    }
   ],
   "source": [
    "cmnd = \"create table OrderItem (Order_ID int(4) PRIMARY KEY,Quantity int(4), Prod_id int(4), \\\n",
    "FOREIGN KEY(Prod_id) REFERENCES product(Prod_id))\"\n",
    "curs.execute(cmnd)"
   ]
  },
  {
   "cell_type": "code",
   "execution_count": 25,
   "metadata": {},
   "outputs": [],
   "source": [
    "curs.executemany('insert into OrderItem values (?,?,?)',\\\n",
    "    [(22,4,34),(23,5,67),(25,7,56)])\n",
    "conn.commit()\n"
   ]
  },
  {
   "cell_type": "code",
   "execution_count": null,
   "metadata": {},
   "outputs": [],
   "source": []
  },
  {
   "cell_type": "code",
   "execution_count": 26,
   "metadata": {},
   "outputs": [
    {
     "ename": "IntegrityError",
     "evalue": "UNIQUE constraint failed: OrderItem.Order_ID",
     "output_type": "error",
     "traceback": [
      "\u001b[1;31m---------------------------------------------------------------------------\u001b[0m",
      "\u001b[1;31mIntegrityError\u001b[0m                            Traceback (most recent call last)",
      "\u001b[1;32m<ipython-input-26-617bfb45bc52>\u001b[0m in \u001b[0;36m<module>\u001b[1;34m\u001b[0m\n\u001b[0;32m      1\u001b[0m curs.execute('insert into OrderItem values (?,?,?)',\\\n\u001b[1;32m----> 2\u001b[1;33m     (22,4,340))#Throws an error since product id 340 is not there in product table\n\u001b[0m\u001b[0;32m      3\u001b[0m \u001b[0mconn\u001b[0m\u001b[1;33m.\u001b[0m\u001b[0mcommit\u001b[0m\u001b[1;33m(\u001b[0m\u001b[1;33m)\u001b[0m\u001b[1;33m\u001b[0m\u001b[1;33m\u001b[0m\u001b[0m\n",
      "\u001b[1;31mIntegrityError\u001b[0m: UNIQUE constraint failed: OrderItem.Order_ID"
     ]
    }
   ],
   "source": [
    "curs.execute('insert into OrderItem values (?,?,?)',\\\n",
    "    (22,4,340))#Throws an error since product id 340 is not there in product table\n",
    "conn.commit()"
   ]
  },
  {
   "cell_type": "code",
   "execution_count": null,
   "metadata": {},
   "outputs": [],
   "source": []
  },
  {
   "cell_type": "code",
   "execution_count": null,
   "metadata": {},
   "outputs": [],
   "source": [
    "curs.executemany('insert into product values (?,?,?,?,?)',\\\n",
    "[(34,\"Towel\", \"Cover\" ,200, 36),(67,\"Lunch Box\",\"Bag\" ,300, 45)\n",
    "])\n",
    "curs.execute('insert into OrderItem values (?,?,?)',(22,4,34))\n",
    "conn.commit()"
   ]
  },
  {
   "cell_type": "code",
   "execution_count": 19,
   "metadata": {},
   "outputs": [
    {
     "name": "stdout",
     "output_type": "stream",
     "text": [
      "[(1000, 'Tony', 28, 'Chennai', 36005.0), (67, 'Logan', 31, 'Mumbai', 450000.5)]\n",
      "[]\n",
      "[(1000, 'Tony', 28, 'Chennai', 37805.25), (67, 'Logan', 31, 'Mumbai', 472500.525)]\n",
      "[(67, 'Logan', 31, 'Mumbai', 472500.525)]\n",
      "[(67, 'Logan', 31, 'Mumbai', 472500.525)]\n"
     ]
    }
   ],
   "source": [
    "import sqlite3\n",
    "conn = sqlite3.connect('sample71')\n",
    "curs = conn.cursor()\n",
    "\n",
    "cmnd = \"create table Employee (EmpID int(4), Name char(20) \\\n",
    ", Age int(2),Address char(50),Salary real)\"\n",
    "curs.execute(cmnd)\n",
    "\n",
    "curs.executemany('insert into Employee values (?,?,?,?,?)',[(1000,\"Tony\",28,\"Chennai\", 36005.00),(67,\"Logan\",31 ,\"Mumbai\", 450000.50)])\n",
    "conn.commit()\n",
    "curs.execute(\"Select * from Employee\")\n",
    "print(curs.fetchall())\n",
    "\n",
    "curs.execute('UPDATE Employee SET Salary=(Salary+Salary*0.05)')\n",
    "conn.commit()\n",
    "print(curs.fetchall())\n",
    "\n",
    "curs.execute(\"Select * from Employee\")\n",
    "print(curs.fetchall())\n",
    "\n",
    "curs.execute('select * from Employee where Salary>50000.00')\n",
    "conn.commit()\n",
    "print(curs.fetchall())\n",
    "\n",
    "curs.execute('Delete from Employee where EmpID=1000')\n",
    "conn.commit()\n",
    "\n",
    "curs.execute(\"Select * from Employee\")\n",
    "print(curs.fetchall())\n",
    "\n",
    "conn.close()"
   ]
  },
  {
   "cell_type": "code",
   "execution_count": 20,
   "metadata": {},
   "outputs": [
    {
     "name": "stdout",
     "output_type": "stream",
     "text": [
      "Content after insert:\n",
      "(300, 'Java', 3, 'Raghu')\n",
      "(568, 'Algorithms', 4, 'Seenu')\n",
      "Content after update:\n",
      "(300, 'Prog in Java', 3, 'Raghu')\n",
      "(568, 'Algorithms', 4, 'Seenu')\n",
      "Content after delete:\n",
      "(300, 'Prog in Java', 3, 'Raghu')\n"
     ]
    }
   ],
   "source": [
    "import sqlite3\n",
    "conn = sqlite3.connect('sample21')\n",
    "curs = conn.cursor()\n",
    "#Create table\n",
    "cmnd = \"CREATE TABLE IF NOT EXISTS course_master (course_code integer PRIMARY KEY,\\\n",
    "course_name text NOT NULL, course_credits integer,course_staff text NOT NULL)\"\n",
    "curs.execute(cmnd)\n",
    "#Insert into table\n",
    "rows = [(300,'Java',3,\"Raghu\"),(568,'Algorithms',4,\"Seenu\")]\n",
    "for r in rows:\n",
    "    curs.execute('insert into course_master values (?,?,?,?)', r)\n",
    "#Function for select\n",
    "def sel():\n",
    "    global curs\n",
    "    curs.execute('select * from course_master')\n",
    "    for row in curs.fetchall():\n",
    "        print(row)\n",
    "print(\"Content after insert:\")\n",
    "sel()\n",
    "#Update\n",
    "cmnd = \"UPDATE course_master SET course_name = 'Prog in Java' WHERE course_code = 300\"\n",
    "curs.execute(cmnd)\n",
    "print(\"Content after update:\")\n",
    "sel()\n",
    "#Delete\n",
    "cmnd = \"delete from course_master where course_name='Algorithms'\"\n",
    "curs.execute(cmnd)\n",
    "\n",
    "print(\"Content after delete:\")\n",
    "sel()"
   ]
  },
  {
   "cell_type": "code",
   "execution_count": 21,
   "metadata": {},
   "outputs": [],
   "source": [
    "import sqlite3\n",
    "conn = sqlite3.connect('TESTDB332')\n",
    "curs = conn.cursor()\n",
    "\n",
    "cmnd = \"create table Department (DeptID int(3) PRIMARY KEY,DeptName varchar(10),Location varchar(30))\"\n",
    "curs.execute(cmnd)\n",
    "\n",
    "cmnd = \"create table Employee (EmpID int(4) PRIMARY KEY, Name char(20) \\\n",
    ", Age int(2),Address char(50),Salary real, \\\n",
    "DeptID int(3), FOREIGN KEY(DeptID) REFERENCES Department(DeptID))\"\n",
    "curs.execute(cmnd)\n",
    "\n",
    "r = [(101,'IT','TechPark'),(167,'Mathematics','University Building'),(127,'EEE','Hi Tech Block')]\n",
    "curs.execute('insert into Department values (?,?,?)',(123,'CSE','TP'))\n",
    "conn.commit()\n"
   ]
  },
  {
   "cell_type": "code",
   "execution_count": 22,
   "metadata": {},
   "outputs": [],
   "source": [
    "curs.executemany('insert into Department values (?,?,?)',r)\n",
    "conn.commit()"
   ]
  },
  {
   "cell_type": "code",
   "execution_count": 23,
   "metadata": {},
   "outputs": [
    {
     "name": "stdout",
     "output_type": "stream",
     "text": [
      "[]\n",
      "[(1000, 'Tony', 28, 'Chennai', 37805.25, 127), (67, 'Logan', 31, 'Mumbai', 472500.525, 101)]\n",
      "[(67, 'Logan', 31, 'Mumbai', 472500.525, 101)]\n",
      "[(67, 'Logan', 31, 'Mumbai', 472500.525, 101)]\n"
     ]
    }
   ],
   "source": [
    "\n",
    "\n",
    "curs.executemany('insert into Employee values (?,?,?,?,?,?)',\\\n",
    "[(1000,\"Tony\",28,\"Chennai\", 36005.00,127),\n",
    " (67,\"Logan\",31 ,\"Mumbai\", 450000.50,101)])\n",
    "conn.commit()\n",
    "\n",
    "curs.execute('UPDATE Employee SET Salary=(Salary+Salary*0.05)')\n",
    "conn.commit()\n",
    "print(curs.fetchall())\n",
    "\n",
    "curs.execute(\"Select * from Employee\")\n",
    "print(curs.fetchall())\n",
    "\n",
    "curs.execute('select * from Employee where Salary>50000.00')\n",
    "conn.commit()\n",
    "print(curs.fetchall())\n",
    "\n",
    "curs.execute('Delete from Employee where EmpID=1000')\n",
    "conn.commit()\n",
    "\n",
    "curs.execute(\"Select * from Employee\")\n",
    "print(curs.fetchall())\n",
    "\n",
    "conn.close()"
   ]
  },
  {
   "cell_type": "code",
   "execution_count": null,
   "metadata": {},
   "outputs": [],
   "source": []
  }
 ],
 "metadata": {
  "anaconda-cloud": {},
  "kernelspec": {
   "display_name": "Python 3",
   "language": "python",
   "name": "python3"
  },
  "language_info": {
   "codemirror_mode": {
    "name": "ipython",
    "version": 3
   },
   "file_extension": ".py",
   "mimetype": "text/x-python",
   "name": "python",
   "nbconvert_exporter": "python",
   "pygments_lexer": "ipython3",
   "version": "3.7.3"
  }
 },
 "nbformat": 4,
 "nbformat_minor": 1
}
