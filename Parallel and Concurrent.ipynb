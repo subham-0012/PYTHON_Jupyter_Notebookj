{
 "cells": [
  {
   "cell_type": "code",
   "execution_count": null,
   "metadata": {},
   "outputs": [],
   "source": [
    "#Introduce delays in programs intentionally so that we could switch to other threads\n",
    "import time\n",
    "import sys\n",
    "print(time.time())\n",
    "print(time.ctime(time.time()))\n",
    "time.sleep(5)#Simulate thread being idle\n",
    "print(\"End\")"
   ]
  },
  {
   "cell_type": "code",
   "execution_count": 9,
   "metadata": {},
   "outputs": [
    {
     "name": "stdout",
     "output_type": "stream",
     "text": [
      "t2 Tue May 10 15:41:16 2022\n",
      "t1 Tue May 10 15:41:18 2022\n",
      "t2 Tue May 10 15:41:18 2022\n",
      "t2 Tue May 10 15:41:20 2022\n",
      "t1 Tue May 10 15:41:22 2022\n",
      "t1 Tue May 10 15:41:26 2022\n",
      "t1 Tue May 10 15:41:30 2022\n",
      "t1 Tue May 10 15:41:34 2022\n"
     ]
    }
   ],
   "source": [
    "from threading import *\n",
    "import time\n",
    "\n",
    "def print_time(tname,counter,delay):\n",
    "    for i in range(counter):\n",
    "        print(\"%s %s\"%(tname,time.ctime(time.time())))\n",
    "        time.sleep(delay)\n",
    "\n",
    "t1=Thread(target=print_time,args=(\"t1\",5,4))\n",
    "t2=Thread(target=print_time,args=(\"t2\",3,2))\n",
    "\n",
    "t1.start()\n",
    "t2.start()"
   ]
  },
  {
   "cell_type": "markdown",
   "metadata": {},
   "source": [
    "1. Multithreading allows python to run many units of work in parallel\n",
    "2. Unit of work is a function\n",
    "3. GIL - Global Interpreter Lock in python is a feature that makes sure only one thread executes at one instant of time by the interpreter\n",
    "4. So in python, how many ever threads you create and how many ever processors you have, only one thread is executing at one instatnt of time\n",
    "5. When one thread is idle (say waiting for a network resource, user action etc), other thread could start executing\n",
    "6. So it is juggling between units of work"
   ]
  },
  {
   "cell_type": "markdown",
   "metadata": {
    "collapsed": true
   },
   "source": [
    "# Method 1 - threading module - threads creation normal"
   ]
  },
  {
   "cell_type": "code",
   "execution_count": null,
   "metadata": {},
   "outputs": [],
   "source": [
    "from threading import *\n",
    "import time\n",
    "# Step 1 - Define a function/work for the thread\n",
    "def print_time(threadName, counter, delay):\n",
    "    count = 0\n",
    "    while count < counter:\n",
    "        time.sleep(delay)\n",
    "        count += 1\n",
    "        print (\"%s: %s\" % (threadName, time.ctime(time.time())))\n",
    "# Step 2 - Create threads as follows\n",
    "t1 = Thread(target=print_time, args=(\"Thread-1\",3, 2, ))\n",
    "#target is the work done by the thread\n",
    "#args is the arguments requried by the function\n",
    "t2 = Thread(target=print_time, args=(\"Thread-2\", 4, 4,))\n",
    "t1.start()#Step 3 - Start the thread\n",
    "t2.start()\n"
   ]
  },
  {
   "cell_type": "markdown",
   "metadata": {},
   "source": [
    "## Method 2 - threading module - threads creation OOP way"
   ]
  },
  {
   "cell_type": "code",
   "execution_count": null,
   "metadata": {},
   "outputs": [],
   "source": [
    "import threading\n",
    "import time\n",
    "def print_time(threadName, counter, delay):\n",
    "    while counter:\n",
    "      time.sleep(delay)\n",
    "      print (\"%s: %s\" % (threadName, time.ctime(time.time())))\n",
    "      counter -= 1\n",
    "class myThread (threading.Thread):#Step 1 - Subclass the threading class\n",
    "    def __init__(self, name, counter,delay):#Step 2 - Call parent class constructor in child\n",
    "        threading.Thread.__init__(self)\n",
    "        self.name = name\n",
    "        self.counter = counter\n",
    "        self.delay = delay\n",
    "    def run(self):#Step 3 - Override the run method\n",
    "        print( \"Starting \" + self.name)\n",
    "        print_time(self.name, self.counter, self.delay)\n",
    "        print (\"Exiting \" + self.name)\n",
    "# Step 4 - Create new threads\n",
    "thread1 = myThread(\"Thread-1\", 2,2)\n",
    "thread2 = myThread(\"Thread-2\", 3,1)\n",
    "# Step 5 - Start new Threads\n",
    "thread1.start()\n",
    "thread2.start()\n",
    "#Parent Wait till all children finish\n",
    "thread1.join()\n",
    "thread2.join()\n",
    "print (\"Exiting Main Thread\")"
   ]
  },
  {
   "cell_type": "markdown",
   "metadata": {},
   "source": [
    "# Method 3 - multiprocessing module"
   ]
  },
  {
   "cell_type": "markdown",
   "metadata": {},
   "source": [
    "#multiprocessing is a package that supports spawning processes using an API similar to the threading module\n",
    "#offers both local and remote concurrency \n",
    "#Python's global interpreter lock (GIL) will make sure than only one thread is executed by python interpreter\n",
    "#This means even when multiple processors are available threads in Python can use only one processor to maintain concurrency\n",
    "#In multiprocessing each thread or parallel work is created as a separate process there by utilizing multiple processors"
   ]
  },
  {
   "cell_type": "markdown",
   "metadata": {},
   "source": [
    "#multiprocessing does not work in older versions of Jupyter notebook\n",
    "#Add python installtion directory to windows path variable\n",
    "#Just copy paste each of the cell's content to a file and save with .py extension\n",
    "#In windows command prompt(cmd), navigate to the folder that has the python file and issue"
   ]
  },
  {
   "cell_type": "code",
   "execution_count": null,
   "metadata": {},
   "outputs": [],
   "source": [
    "from multiprocessing import Process\n",
    "\n",
    "def f(name):\n",
    "    print('hello', name)\n",
    "\n",
    "if __name__ == '__main__':\n",
    "    p = Process(target=f, args=('bob',))\n",
    "    p.start()\n",
    "    p.join()"
   ]
  },
  {
   "cell_type": "code",
   "execution_count": null,
   "metadata": {},
   "outputs": [],
   "source": [
    "from multiprocessing import Process\n",
    "def worker(num):\n",
    "    print('Worker:', num)\n",
    "    for i in range(num):\n",
    "        print(i)\n",
    "\n",
    "\n",
    "#If this source file is the main program, \n",
    "#interpreter sets the special __name__ variable a value “__main__”. \n",
    "#If this file is being imported from another module, \n",
    "#__name__ will be set to the module’s name. \n",
    "\n",
    "#This line is manadatory for multiprocessing\n",
    "if __name__ == '__main__':\n",
    "    for i in range(3):\n",
    "        p = Process(target=worker, args=(i+2,))\n",
    "        p.start()"
   ]
  },
  {
   "cell_type": "markdown",
   "metadata": {},
   "source": [
    "1. On using threads, many threads could access/write to a common file.\n",
    "2. Python supports some synchronization primitives to avoid multiple threads accessing a common resource\n",
    "3. We see synchronization primitives like - locks, Rlock, semaphore and events"
   ]
  },
  {
   "cell_type": "markdown",
   "metadata": {},
   "source": [
    "# Synchronization using locks"
   ]
  },
  {
   "cell_type": "markdown",
   "metadata": {},
   "source": [
    "1. Lock is the simplest synchronization primitive\n",
    "2. A Lock has only two states — locked and unlocked. \n",
    "3. It is created in the unlocked state and has two principal methods — acquire() and release()."
   ]
  },
  {
   "cell_type": "code",
   "execution_count": 1,
   "metadata": {},
   "outputs": [
    {
     "name": "stdout",
     "output_type": "stream",
     "text": [
      "Starting Thread-1\n",
      "Starting Thread-2\n",
      "Thread-1: Mon May 30 20:43:57 2022\n",
      "Thread-1: Mon May 30 20:43:58 2022Thread-2: Mon May 30 20:43:58 2022\n",
      "\n",
      "Thread-1: Mon May 30 20:43:59 2022\n",
      "Thread-2: Mon May 30 20:44:00 2022\n",
      "Thread-2: Mon May 30 20:44:02 2022\n",
      "Thread-2: Mon May 30 20:44:04 2022\n",
      "Thread-2: Mon May 30 20:44:06 2022\n",
      "Exiting Main Thread\n"
     ]
    }
   ],
   "source": [
    "# Synchronizing thread\n",
    "import threading, time\n",
    "def print_time(threadName, delay, counter):\n",
    "    while counter:\n",
    "        time.sleep(delay)\n",
    "        print (\"%s: %s\" % (threadName, time.ctime(time.time())))\n",
    "        counter -= 1\n",
    "class myThread (threading.Thread):\n",
    "    def __init__(self, name, counter,delay):\n",
    "        threading.Thread.__init__(self)\n",
    "        self.name = name\n",
    "        self.counter = counter\n",
    "        self.delay = delay  \n",
    "    def run(self):\n",
    "        print (\"Starting \" + self.name)\n",
    "        # Get lock to synchronize printing\n",
    "        #threadLock.acquire()\n",
    "        print_time(self.name, self.counter, self.delay)\n",
    "        # Free lock to release next thread\n",
    "        #threadLock.release()\n",
    "threadLock = threading.Lock()\n",
    "threads = []\n",
    "# Create new threads\n",
    "thread1 = myThread(\"Thread-1\", 1,3)\n",
    "thread2 = myThread(\"Thread-2\", 2,5)\n",
    "# Start new Threads\n",
    "thread1.start()\n",
    "thread2.start()\n",
    "# Add threads to thread list\n",
    "threads.append(thread1)\n",
    "threads.append(thread2)\n",
    "# Wait for all threads to complete\n",
    "for t in threads:\n",
    "    t.join()\n",
    "print (\"Exiting Main Thread\")"
   ]
  },
  {
   "cell_type": "markdown",
   "metadata": {},
   "source": [
    "# Synchronization using Rlock"
   ]
  },
  {
   "cell_type": "markdown",
   "metadata": {},
   "source": [
    "1. The standard Lock doesn’t know which thread is currently holding the lock. \n",
    "2. If the lock is held, any thread that attempts to acquire it will block, even if the same thread itself is already holding the lock.\n",
    "3. In such cases, RLock (re-entrant lock) is used. \n",
    "4. RLocks can prevent unwanted blocking.\n"
   ]
  },
  {
   "cell_type": "code",
   "execution_count": null,
   "metadata": {},
   "outputs": [],
   "source": [
    "1. Example - Do not execute\n",
    "\n",
    "lock = threading.Lock()\n",
    "\n",
    "lock.acquire()\n",
    "num += 1\n",
    "lock.acquire() # This will block.\n",
    "num += 2\n",
    "lock.release()"
   ]
  },
  {
   "cell_type": "code",
   "execution_count": null,
   "metadata": {},
   "outputs": [],
   "source": [
    "lock = Threading.RLock()\n",
    "\n",
    "lock.acquire()\n",
    "num += 3\n",
    "lock.acquire() # This won’t block.\n",
    "num += 4\n",
    "lock.release()\n",
    "lock.release() # You need to call release once for each call to acquire."
   ]
  },
  {
   "cell_type": "code",
   "execution_count": null,
   "metadata": {},
   "outputs": [],
   "source": [
    "# Synchronizing thread\n",
    "import threading, time\n",
    "def print_time(threadName, delay, counter):\n",
    "    while counter:\n",
    "        time.sleep(delay)\n",
    "        threadLock.acquire()\n",
    "        print (\"%s: %s\" % (threadName, time.ctime(time.time())))\n",
    "        counter -= 1\n",
    "        threadLock.release()\n",
    "class myThread (threading.Thread):\n",
    "    def __init__(self, name, counter,delay):\n",
    "        threading.Thread.__init__(self)\n",
    "        self.name = name\n",
    "        self.counter = counter\n",
    "        self.delay = delay  \n",
    "    def run(self):\n",
    "        print (\"Starting \" + self.name)\n",
    "        # Get lock to synchronize printing\n",
    "        threadLock.acquire()\n",
    "        print_time(self.name, self.counter, self.delay)\n",
    "        # Free lock to release next thread\n",
    "        threadLock.release()\n",
    "threadLock = threading.Lock()\n",
    "threads = []\n",
    "# Create new threads\n",
    "thread1 = myThread(\"Thread-1\", 1,3)\n",
    "thread2 = myThread(\"Thread-2\", 2,5)\n",
    "# Start new Threads\n",
    "thread1.start()\n",
    "thread2.start()\n",
    "# Add threads to thread list\n",
    "threads.append(thread1)\n",
    "threads.append(thread2)\n",
    "# Wait for all threads to complete\n",
    "for t in threads:\n",
    "    t.join()\n",
    "print (\"Exiting Main Thread\")"
   ]
  },
  {
   "cell_type": "code",
   "execution_count": null,
   "metadata": {},
   "outputs": [],
   "source": [
    "import threading\n",
    "\n",
    "class Foo(object):\n",
    "    lock = threading.RLock()\n",
    "    def __init__(self):\n",
    "        self.x = 0\n",
    "    def add(self,n):\n",
    "        with Foo.lock:\n",
    "            self.x += n\n",
    "    def incr(self):\n",
    "        with Foo.lock:\n",
    "            self.add(1)\n",
    "    def decr(self):\n",
    "        with Foo.lock:\n",
    "            self.add(-1)\n",
    "def adder(f,count):\n",
    "    while count > 0:\n",
    "        f.incr()\n",
    "        count -= 1\n",
    "    print(f.x)\n",
    "def subber(f,count):\n",
    "    while count > 0:\n",
    "        f.decr()\n",
    "        count -= 1\n",
    "    print(f.x)\n",
    "# Create some threads and make sure it works\n",
    "COUNT1 = 15\n",
    "COUNT2 = 10\n",
    "f = Foo()\n",
    "t1 = threading.Thread(target=adder,args=(f,COUNT1))\n",
    "t2 = threading.Thread(target=subber,args=(f,COUNT2))\n",
    "t1.start()\n",
    "t2.start()\n",
    "t1.join()\n",
    "t2.join()\n"
   ]
  },
  {
   "cell_type": "markdown",
   "metadata": {},
   "source": [
    "# Synchronization using semaphore"
   ]
  },
  {
   "cell_type": "markdown",
   "metadata": {},
   "source": [
    "1. A semaphore is a synchronization construct.\n",
    "2. Semaphore provides threads with synchronized access to a limited number of resources.\n",
    "3. A semaphore is just a variable. The variable reflects the number of currently available resources. For example, a parking lot with a display of number of available slots on a specific level of a shopping mall is a semaphore.\n",
    "A semaphore manages an internal counter which is decremented by each acquire() call and incremented by each release() call. The counter can never go below zero; when acquire() finds that it is zero, it blocks, waiting until some other thread calls release().\n",
    "4. The value of semaphore cannot go less than zero and greater then the total number of the available resources.\n",
    "5. The semaphore is associated with two operations – acquire and release."
   ]
  },
  {
   "cell_type": "code",
   "execution_count": null,
   "metadata": {},
   "outputs": [],
   "source": [
    "# An example python program using semaphore provided by the python threading module\n",
    "import threading\n",
    "import time\n",
    "parkedLock      = threading.Lock()\n",
    "removedLock     = threading.Lock()\n",
    "#Counters for total number of parkings and removals\n",
    "parked          = 0\n",
    "removed         = 0\n",
    "#Semaphore\n",
    "availbleParkings = threading.Semaphore(5)#Only five parking slots available\n",
    "\n",
    "def ParkCar(): #Parking thread will execute this work\n",
    "        availbleParkings.acquire()#Decremented by one\n",
    "        global parkedLock\n",
    "        parkedLock.acquire()#Acquire lock so that no other thread simultaneously modifies the parkedLock global variable\n",
    "        global parked\n",
    "        parked = parked+1\n",
    "        parkedLock.release()\n",
    "        print(\"Parked: %d\"%(parked))      \n",
    "def RemoveCar(): #Removing thread will execute this work\n",
    "        availbleParkings.release()#Incremented by one\n",
    "        global removedLock\n",
    "        removedLock.acquire()\n",
    "        global removed\n",
    "        removed = removed+1\n",
    "        removedLock.release()\n",
    "        print(\"Removed: %d\"%(removed))       \n",
    "# Thread that simulates the entry of cars into the parking lot\n",
    "def parkingEntry():\n",
    "    # Creates multiple threads inside to simulate cars that are parked\n",
    "    for i in range(6):\n",
    "        time.sleep(1)\n",
    "        incomingCar = threading.Thread(target=ParkCar)\n",
    "        incomingCar.start()\n",
    "\n",
    "# Thread that simulates the exit of cars from the parking lot\n",
    "def parkingExit():\n",
    "    # Creates multiple threads inside to simulate cars taken out from the parking lot\n",
    "    for j in range(5):\n",
    "        time.sleep(15)\n",
    "        outgoingCar = threading.Thread(target=RemoveCar)\n",
    "        outgoingCar.start()\n",
    "\n",
    "# Start the parking eco-system\n",
    "parkingEntryThread      = threading.Thread(target=parkingEntry)\n",
    "parkingExitThread       = threading.Thread(target=parkingExit)\n",
    "parkingEntryThread.start()\n",
    "parkingExitThread.start()"
   ]
  },
  {
   "cell_type": "code",
   "execution_count": null,
   "metadata": {},
   "outputs": [],
   "source": [
    "import threading\n",
    "import time\n",
    "\n",
    "done = threading.Semaphore(0)\n",
    "item = None\n",
    "\n",
    "def producer():\n",
    "    global item\n",
    "    print(\"I'm the producer and I produce data.\")\n",
    "    print(\"Producer is going to sleep.\")\n",
    "    time.sleep(10)\n",
    "    item = \"Hello\"\n",
    "    print(\"Producer is alive. Signaling the consumer.\")\n",
    "    done.release()\n",
    "def consumer():\n",
    "    print( \"I'm a consumer and I wait for data.\")\n",
    "    print( \"Consumer is waiting.\")\n",
    "    done.acquire()#Blocks till some thread calls release\n",
    "    print( \"Consumer got\", item)\n",
    "\n",
    "t1 = threading.Thread(target=producer)\n",
    "t2 = threading.Thread(target=consumer)\n",
    "t1.start()\n",
    "t2.start()\n"
   ]
  },
  {
   "cell_type": "markdown",
   "metadata": {},
   "source": [
    "# Synchronization using event"
   ]
  },
  {
   "cell_type": "markdown",
   "metadata": {},
   "source": [
    "1. This is one of the simplest mechanisms for communication between threads\n",
    "2. One thread signals an event and other threads wait for it.\n",
    "3. An event object manages an internal flag that can be set to true with the set() method and reset to false with the clear() method. The wait() method blocks until the flag is true."
   ]
  },
  {
   "cell_type": "code",
   "execution_count": 1,
   "metadata": {},
   "outputs": [
    {
     "name": "stdout",
     "output_type": "stream",
     "text": [
      "producer: produced an item\n",
      "worker: processing 0"
     ]
    },
    {
     "name": "stderr",
     "output_type": "stream",
     "text": [
      "C:\\Users\\HP\\AppData\\Local\\Temp\\ipykernel_5884\\63986954.py:29: DeprecationWarning: setDaemon() is deprecated, set the daemon attribute instead\n",
      "  t2.setDaemon(True)\n"
     ]
    },
    {
     "name": "stdout",
     "output_type": "stream",
     "text": [
      "\n",
      "worker: done\n",
      "producer: item was processed\n",
      "producer: produced an item\n",
      "worker: processing 1\n",
      "worker: done\n",
      "producer: item was processed\n",
      "producer: produced an item\n",
      "worker: processing 2\n",
      "worker: done\n",
      "producer: item was processed\n",
      "producer: produced an item\n",
      "worker: processing 3\n",
      "worker: done\n",
      "producer: item was processed\n",
      "producer: produced an item\n",
      "worker: processing 4\n",
      "worker: done\n",
      "producer: item was processed\n"
     ]
    }
   ],
   "source": [
    "import threading\n",
    "import time\n",
    "item = None\n",
    "# A semaphore to indicate that an item is available\n",
    "available = threading.Semaphore(0)\n",
    "# An event to indicate that processing is complete\n",
    "completed = threading.Event()\n",
    "# A worker thread\n",
    "def worker():\n",
    "    while True:\n",
    "        available.acquire()\n",
    "        print( \"worker: processing\", item)\n",
    "        time.sleep(5)\n",
    "        print( \"worker: done\")\n",
    "        completed.set()#Objects flag set to true\n",
    "# A producer thread\n",
    "def producer():\n",
    "    global item\n",
    "    for x in range(5):\n",
    "        completed.clear()       # Clear the event\n",
    "        item = x                # Set the item\n",
    "        print( \"producer: produced an item\")\n",
    "        available.release()     # Signal on the semaphore\n",
    "        completed.wait()#Blocks until flag is true\n",
    "        print( \"producer: item was processed\")\n",
    "t1 = threading.Thread(target=producer)\n",
    "t1.start()\n",
    "t2 = threading.Thread(target=worker)\n",
    "t2.setDaemon(True)\n",
    "t2.start()"
   ]
  },
  {
   "cell_type": "markdown",
   "metadata": {},
   "source": [
    "# Queues - Producer and Consumer Patterns"
   ]
  },
  {
   "cell_type": "code",
   "execution_count": null,
   "metadata": {},
   "outputs": [],
   "source": [
    "1. Follows FIFO\n",
    "2. One type of thread(producer) writes to one end of a queue\n",
    "3. Another type of thread called consumer reads from other end of the queue\n",
    "4. All reads and writes are thread safe on its own, so explicit synchronization like locks, rlocks not required."
   ]
  },
  {
   "cell_type": "code",
   "execution_count": null,
   "metadata": {},
   "outputs": [],
   "source": [
    "import threading\n",
    "import queue\n",
    "import time\n",
    "no_of_producers = 2\n",
    "no_of_consumers = 5\n",
    "workQueue = queue.Queue(maxsize=10)#Create a queue\n",
    "inp_to_queue = [[1,2,3],['one','two','three','foura']]\n",
    "def producer(threadName,indx): #Producer thread work\n",
    "    lst = inp_to_queue[indx]\n",
    "    for word in lst:\n",
    "        workQueue.put(word)#Insert into queue\n",
    "def consumer(threadName):#Producer thread work\n",
    "    if not workQueue.empty():\n",
    "        data = workQueue.get()#Read from queue FIFO\n",
    "        print (\"%s processing %s\" % (threadName, data))\n",
    "        time.sleep(1)\n",
    "threads_prod = []\n",
    "threads_cons = []\n",
    "for i in range(no_of_producers):\n",
    "    tp = threading.Thread(target = producer, args = (\"Producer Thread\", i))\n",
    "    tp.start()\n",
    "    threads_prod.append(tp)\n",
    "for j in range(no_of_consumers):\n",
    "    tc = threading.Thread(target = consumer, args = (\"Consumer Thread\",))\n",
    "    tc.start()\n",
    "    threads_cons.append(tc)"
   ]
  },
  {
   "cell_type": "markdown",
   "metadata": {},
   "source": [
    "# Same queue program above using OOP"
   ]
  },
  {
   "cell_type": "code",
   "execution_count": null,
   "metadata": {},
   "outputs": [],
   "source": [
    "import queue\n",
    "import threading\n",
    "import time\n",
    "\n",
    "def put_data(threadName,indx):\n",
    "    lst = inp_to_queue[indx]\n",
    "    for word in lst:\n",
    "        workQueue.put(word)\n",
    "\n",
    "class putThread (threading.Thread):\n",
    "    def __init__(self, lstID, name):\n",
    "        threading.Thread.__init__(self)\n",
    "        self.threadID = lstID\n",
    "        self.name = name\n",
    "    def run(self):\n",
    "        print (\"Starting \" + self.name+str(self.threadID))\n",
    "        put_data(self.name,self.threadID)\n",
    "        #print (\"Exiting \" + self.name)\n",
    "\n",
    "def get_data(threadName):\n",
    "    if not workQueue.empty():\n",
    "        data = workQueue.get()\n",
    "        print (\"%s processing %s\" % (threadName, data))\n",
    "        time.sleep(1)\n",
    "\n",
    "class getThread (threading.Thread):\n",
    "    def __init__(self, threadID, name):\n",
    "        threading.Thread.__init__(self)\n",
    "        self.threadID = threadID\n",
    "        self.name = name\n",
    "    def run(self):\n",
    "        print (\"Starting \" + self.name+str(self.threadID))\n",
    "        get_data(self.name)\n",
    "        #print (\"Exiting \" + self.name)"
   ]
  },
  {
   "cell_type": "code",
   "execution_count": null,
   "metadata": {},
   "outputs": [],
   "source": [
    "no_of_producers = 2\n",
    "no_of_consumers = 4\n",
    "\n",
    "workQueue = queue.Queue(maxsize=10)\n",
    "\n",
    "inp_to_queue = [['apple','orange','guava'],['rose','jasmine','lilly']]\n",
    "threads=[]\n",
    "\n",
    "for i in range(no_of_producers):\n",
    "    th_inp = putThread(i,\"Put\")\n",
    "    threads.append(th_inp)\n",
    "    th_inp.start()\n",
    "\n",
    "for j in range(no_of_consumers):\n",
    "    th_op = getThread(j,\"Get\")\n",
    "    threads.append(th_op)\n",
    "    th_op.start()\n",
    "\n",
    "# Wait for all threads to complete\n",
    "for t in threads:\n",
    "    t.join()\n",
    "print (\"Exiting Main Thread\")"
   ]
  },
  {
   "cell_type": "code",
   "execution_count": null,
   "metadata": {},
   "outputs": [],
   "source": []
  }
 ],
 "metadata": {
  "anaconda-cloud": {},
  "interpreter": {
   "hash": "a9cff5a362bc38ef45d817ae74b1af54d6a076e3d773891282bce078b815ba34"
  },
  "kernelspec": {
   "display_name": "Python 3.10.2 64-bit",
   "language": "python",
   "name": "python3"
  },
  "language_info": {
   "codemirror_mode": {
    "name": "ipython",
    "version": 3
   },
   "file_extension": ".py",
   "mimetype": "text/x-python",
   "name": "python",
   "nbconvert_exporter": "python",
   "pygments_lexer": "ipython3",
   "version": "3.10.2"
  }
 },
 "nbformat": 4,
 "nbformat_minor": 2
}
