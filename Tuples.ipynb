{
 "cells": [
  {
   "cell_type": "markdown",
   "metadata": {},
   "source": [
    "### Tuple Creation"
   ]
  },
  {
   "cell_type": "code",
   "execution_count": 1,
   "metadata": {},
   "outputs": [
    {
     "name": "stdout",
     "output_type": "stream",
     "text": [
      "(21,)\n",
      "(21, 22)\n",
      "(21, 22, 'twenty three') ()\n"
     ]
    }
   ],
   "source": [
    "t1=21,#singleton - comma is the tuple creation operator, paranthesis are optional\n",
    "t2=(21,22)#pair\n",
    "t3=(21,22,'twenty three')\n",
    "t4=tuple()\n",
    "\n",
    "print(t1)\n",
    "print (t2)\n",
    "print (t3,t4)"
   ]
  },
  {
   "cell_type": "code",
   "execution_count": 2,
   "metadata": {},
   "outputs": [
    {
     "name": "stdout",
     "output_type": "stream",
     "text": [
      "('p', 'y', 't', 'h', 'o', 'n')\n",
      "y\n"
     ]
    },
    {
     "ename": "TypeError",
     "evalue": "'tuple' object does not support item assignment",
     "output_type": "error",
     "traceback": [
      "\u001b[1;31m---------------------------------------------------------------------------\u001b[0m",
      "\u001b[1;31mTypeError\u001b[0m                                 Traceback (most recent call last)",
      "\u001b[1;32mc:\\Users\\HP\\Desktop\\APP\\APP Jupyter Notebok\\Tuples.ipynb Cell 3'\u001b[0m in \u001b[0;36m<cell line: 5>\u001b[1;34m()\u001b[0m\n\u001b[0;32m      <a href='vscode-notebook-cell:/c%3A/Users/HP/Desktop/APP/APP%20Jupyter%20Notebok/Tuples.ipynb#ch0000002?line=1'>2</a>\u001b[0m \u001b[39mprint\u001b[39m (x)\n\u001b[0;32m      <a href='vscode-notebook-cell:/c%3A/Users/HP/Desktop/APP/APP%20Jupyter%20Notebok/Tuples.ipynb#ch0000002?line=3'>4</a>\u001b[0m \u001b[39mprint\u001b[39m (x[\u001b[39m1\u001b[39m])\n\u001b[1;32m----> <a href='vscode-notebook-cell:/c%3A/Users/HP/Desktop/APP/APP%20Jupyter%20Notebok/Tuples.ipynb#ch0000002?line=4'>5</a>\u001b[0m x[\u001b[39m1\u001b[39m]\u001b[39m=\u001b[39m\u001b[39m0\u001b[39m\n",
      "\u001b[1;31mTypeError\u001b[0m: 'tuple' object does not support item assignment"
     ]
    }
   ],
   "source": [
    "x=tuple('python')\n",
    "print (x)\n",
    "\n",
    "print (x[1])\n",
    "x[1]=0 #Immutable"
   ]
  },
  {
   "cell_type": "code",
   "execution_count": 3,
   "metadata": {},
   "outputs": [
    {
     "name": "stdout",
     "output_type": "stream",
     "text": [
      "(0, 1, 2, 3, 4)\n"
     ]
    }
   ],
   "source": [
    "t=()#Valid way of creating empty tuple\n",
    "for i in range(5):\n",
    "    t+=i, #Inefficient - tuple is meant to be immutable,use list instead\n",
    "print(t)"
   ]
  },
  {
   "cell_type": "code",
   "execution_count": null,
   "metadata": {},
   "outputs": [],
   "source": []
  }
 ],
 "metadata": {
  "anaconda-cloud": {},
  "kernelspec": {
   "display_name": "Python 3",
   "language": "python",
   "name": "python3"
  },
  "language_info": {
   "codemirror_mode": {
    "name": "ipython",
    "version": 3
   },
   "file_extension": ".py",
   "mimetype": "text/x-python",
   "name": "python",
   "nbconvert_exporter": "python",
   "pygments_lexer": "ipython3",
   "version": "3.10.2"
  }
 },
 "nbformat": 4,
 "nbformat_minor": 1
}
